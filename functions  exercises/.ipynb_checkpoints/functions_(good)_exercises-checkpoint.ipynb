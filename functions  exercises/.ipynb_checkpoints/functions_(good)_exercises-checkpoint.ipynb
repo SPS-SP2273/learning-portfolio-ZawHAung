{
 "cells": [
  {
   "cell_type": "markdown",
   "id": "123456",
   "metadata": {},
   "source": [
    "<div style=\"text-align:left;font-size:2em\"><span style=\"font-weight:bolder;font-size:1.25em\">SP2273 | Learning Portfolio</span><br><br><span style=\"font-weight:bold;color:darkred\">Functions (Good) Exercises</span></div>"
   ]
  },
  {
   "cell_type": "markdown",
   "id": "875895f8",
   "metadata": {},
   "source": [
    "### Exercise 1"
   ]
  },
  {
   "cell_type": "code",
   "execution_count": 6,
   "id": "049110c4",
   "metadata": {},
   "outputs": [
    {
     "name": "stdout",
     "output_type": "stream",
     "text": [
      "Input temperature in Celsius here: 68\n",
      "Enter target scale here: Kelvin\n",
      "The temperature converted to Kelvin is 341.15.\n"
     ]
    }
   ],
   "source": [
    "def convert_celsius(temperature_celsius, target_scale = 'Fahrenheit'): #Defines function with two arguments\n",
    "    if temperature_celsius < -273.15:\n",
    "        return \"Temperature cannot be less than absolute zero. \"\n",
    "    elif target_scale == 'Fahrenheit':\n",
    "        temperature_fahrenheit = (temperature_celsius * 1.8) + 32\n",
    "        return temperature_fahrenheit\n",
    "    elif target_scale == 'Kelvin':\n",
    "        temperature_kelvin = temperature_celsius + 273.15\n",
    "        return temperature_kelvin\n",
    "    else:\n",
    "        return \"Invalid scale.\"\n",
    "    \n",
    "temperature_celsius = float(input(\"Input temperature in Celsius here: \"))\n",
    "target_scale = input(\"Enter target scale here: \")\n",
    "\n",
    "temperature_convert = convert_celsius(temperature_celsius, target_scale)\n",
    "print(f\"The temperature converted to {target_scale} is {temperature_convert}.\")\n",
    "    \n"
   ]
  },
  {
   "cell_type": "code",
   "execution_count": 12,
   "id": "14c897cc",
   "metadata": {},
   "outputs": [
    {
     "name": "stdout",
     "output_type": "stream",
     "text": [
      "Input temperature in Celsius here: -300\n",
      "Enter target scale here: Kelvin\n",
      "The temperature converted to Kelvin is Temperature cannot be less than absolute zero..\n"
     ]
    }
   ],
   "source": [
    "def convert_celsius(temperature_celsius, target_scale = 'Fahrenheit'): #Defines function with two arguments\n",
    "    if temperature_celsius < -273.15:\n",
    "        return \"Temperature cannot be less than absolute zero.\"\n",
    "    if target_scale == 'Fahrenheit':\n",
    "        temperature_fahrenheit = (temperature_celsius * 1.8) + 32\n",
    "        return temperature_fahrenheit\n",
    "    elif target_scale == 'Kelvin':\n",
    "        temperature_kelvin = temperature_celsius + 273.15\n",
    "        return temperature_kelvin\n",
    "    else:\n",
    "        return \"Invalid scale.\"\n",
    "    \n",
    "temperature_celsius = float(input(\"Input temperature in Celsius here: \"))\n",
    "target_scale = input(\"Enter target scale here: \")\n",
    "\n",
    "temperature_convert = convert_celsius(temperature_celsius, target_scale)\n",
    "print(f\"The temperature converted to {target_scale} is {temperature_convert}.\")\n",
    "    "
   ]
  },
  {
   "cell_type": "code",
   "execution_count": 21,
   "id": "460326c4",
   "metadata": {},
   "outputs": [
    {
     "name": "stdout",
     "output_type": "stream",
     "text": [
      "Input temperature in Celsius here: 98\n",
      "Enter target scale here: asdf\n",
      "Fahrenheit has been set to default.\n",
      "The temperature converted to Fahrenheit is 208.4.\n"
     ]
    }
   ],
   "source": [
    "def convert_celsius(temperature_celsius, target_scale = 'Fahrenheit'): #Defines function with two arguments\n",
    "    if temperature_celsius < -273.15:   #To check for input below absolute zero\n",
    "        return \"Temperature cannot be less than absolute zero.\"\n",
    "    if target_scale == 'Kelvin':   #To set Fahrenheit as default, make Kelvin the first check\n",
    "        temperature_kelvin = temperature_celsius + 273.15\n",
    "        return temperature_kelvin\n",
    "    else:\n",
    "        temperature_fahrenheit = (temperature_celsius * 1.8) + 32\n",
    "        return temperature_fahrenheit\n",
    "    \n",
    "temperature_celsius = float(input(\"Input temperature in Celsius here: \"))\n",
    "target_scale = input(\"Enter target scale here: \")\n",
    "\n",
    "if target_scale.lower() != 'kelvin':\n",
    "    print(\"Fahrenheit has been set to default.\")\n",
    "    \n",
    "temperature_convert = convert_celsius(temperature_celsius, target_scale)\n",
    "if isinstance(temperature_convert, float):\n",
    "    print(f\"The temperature converted to Fahrenheit is {temperature_convert}.\")\n",
    "else:\n",
    "    print(temperature_convert)"
   ]
  },
  {
   "cell_type": "code",
   "execution_count": 25,
   "id": "702159a3",
   "metadata": {},
   "outputs": [
    {
     "name": "stdout",
     "output_type": "stream",
     "text": [
      "Input temperature in Celsius here: -699\n",
      "Enter target scale here: SAD\n",
      "Fahrenheit has been set to default.\n",
      "Temperature cannot be less than absolute zero.\n"
     ]
    }
   ],
   "source": [
    "def convert_celsius(temperature_celsius, target_scale = 'Fahrenheit'): #Defines function with two arguments\n",
    "    if temperature_celsius < -273.15:   #To check for input below absolute zero\n",
    "        return \"Temperature cannot be less than absolute zero.\"\n",
    "    if target_scale == 'Kelvin':   #To set Fahrenheit as default, make Kelvin the first check\n",
    "        temperature_kelvin = temperature_celsius + 273.15\n",
    "        return temperature_kelvin\n",
    "    else:\n",
    "        temperature_fahrenheit = (temperature_celsius * 1.8) + 32\n",
    "        return temperature_fahrenheit\n",
    "    \n",
    "temperature_celsius = float(input(\"Input temperature in Celsius here: \"))\n",
    "target_scale = input(\"Enter target scale here: \")\n",
    "\n",
    "if target_scale.lower() != 'kelvin':\n",
    "    print(\"Fahrenheit has been set to default.\")\n",
    "    target_scale = 'Fahrenheit'  #To reset any input to Fahrenheit\n",
    "    \n",
    "temperature_convert = convert_celsius(temperature_celsius, target_scale)\n",
    "if isinstance(temperature_convert, float):\n",
    "    print(f\"The temperature converted to {target_scale} is {temperature_convert}.\")\n",
    "else:\n",
    "    print(temperature_convert)"
   ]
  },
  {
   "cell_type": "code",
   "execution_count": 27,
   "id": "51c19c10",
   "metadata": {},
   "outputs": [
    {
     "name": "stdout",
     "output_type": "stream",
     "text": [
      "Input temperature in Celsius here: 67\n",
      "Enter target scale here: kelvin\n",
      "The temperature converted to kelvin is 340.15.\n"
     ]
    }
   ],
   "source": [
    "def convert_celsius(temperature_celsius, target_scale = 'Fahrenheit'): #Defines function with two arguments\n",
    "    if temperature_celsius < -273.15:   #To check for input below absolute zero\n",
    "        return \"Temperature cannot be less than absolute zero.\"\n",
    "    if target_scale.lower() == 'kelvin':   #To set Fahrenheit as default, make Kelvin the first check\n",
    "        temperature_kelvin = temperature_celsius + 273.15\n",
    "        return temperature_kelvin\n",
    "    else:\n",
    "        temperature_fahrenheit = (temperature_celsius * 1.8) + 32\n",
    "        return temperature_fahrenheit\n",
    "    \n",
    "temperature_celsius = float(input(\"Input temperature in Celsius here: \"))\n",
    "target_scale = input(\"Enter target scale here: \")\n",
    "\n",
    "if target_scale.lower() != 'kelvin':\n",
    "    print(\"Fahrenheit has been set to default.\")\n",
    "    target_scale = 'Fahrenheit'  #To reset any input to Fahrenheit\n",
    "    \n",
    "temperature_convert = convert_celsius(temperature_celsius, target_scale)\n",
    "if isinstance(temperature_convert, float):\n",
    "    print(f\"The temperature converted to {target_scale} is {temperature_convert}.\")\n",
    "else:\n",
    "    print(temperature_convert)"
   ]
  },
  {
   "cell_type": "code",
   "execution_count": 29,
   "id": "a82084d6",
   "metadata": {},
   "outputs": [
    {
     "name": "stdout",
     "output_type": "stream",
     "text": [
      "Input temperature in Celsius here: 87\n",
      "Enter desired target scale here, 'Kelvin' or 'Fahrenheit': Joules\n",
      "Scale has been set to Fahrenheit by default.\n",
      "The temperature converted to Fahrenheit is 188.6.\n"
     ]
    }
   ],
   "source": [
    "def convert_celsius(temperature_celsius, target_scale = 'Fahrenheit'): #Defines function with two arguments\n",
    "    if temperature_celsius < -273.15:   #To check for input below absolute zero\n",
    "        return \"Temperature cannot be less than absolute zero.\"\n",
    "    if target_scale.lower() == 'kelvin':   #To set Fahrenheit as default, make Kelvin the first check, .lower() to accept all variations of Kelvin\n",
    "        temperature_kelvin = temperature_celsius + 273.15\n",
    "        return temperature_kelvin\n",
    "    else:       #To accept any other inputs for target scale\n",
    "        temperature_fahrenheit = (temperature_celsius * 1.8) + 32\n",
    "        return temperature_fahrenheit\n",
    "    \n",
    "temperature_celsius = float(input(\"Input temperature in Celsius here: \"))\n",
    "target_scale = input(\"Enter desired target scale here, 'Kelvin' or 'Fahrenheit': \")\n",
    "\n",
    "if target_scale.lower() != 'kelvin': #To check for all variations of Kelvin in input\n",
    "    print(\"Scale has been set to Fahrenheit by default.\")\n",
    "    target_scale = 'Fahrenheit'  #To reset any input to Fahrenheit\n",
    "    \n",
    "temperature_convert = convert_celsius(temperature_celsius, target_scale)\n",
    "if isinstance(temperature_convert, float):\n",
    "    print(f\"The temperature converted to {target_scale} is {temperature_convert}.\")\n",
    "else:\n",
    "    print(temperature_convert)  #To check for input below absolute zero"
   ]
  },
  {
   "cell_type": "code",
   "execution_count": null,
   "id": "b5901d87",
   "metadata": {
    "scrolled": false
   },
   "outputs": [
    {
     "name": "stdout",
     "output_type": "stream",
     "text": [
      "Input temperature in Celsius here: 93\n",
      "Enter desired target scale here, 'Kelvin' or 'Fahrenheit': Kelvin\n",
      "The temperature converted to Kelvin is 366.15.\n",
      "Input temperature in Celsius here: -899\n",
      "Enter desired target scale here, 'Kelvin' or 'Fahrenheit': Kelvin\n",
      "Temperature cannot be less than absolute zero.\n",
      "Input temperature in Celsius here: 373\n",
      "Enter desired target scale here, 'Kelvin' or 'Fahrenheit': Fahrenheit\n",
      "Scale has been set to Fahrenheit by default.\n",
      "The temperature converted to Fahrenheit is 703.4.\n"
     ]
    }
   ],
   "source": [
    "while True:      #Allows function to continue running after each input\n",
    "\n",
    "    def convert_celsius(temperature_celsius, target_scale = 'Fahrenheit'): #Defines function with two arguments\n",
    "        if temperature_celsius < -273.15:   #To check for input below absolute zero\n",
    "            return \"Temperature cannot be less than absolute zero.\"\n",
    "        if target_scale.lower() == 'kelvin':   #To set Fahrenheit as default, make Kelvin the first check, .lower() to accept all variations of Kelvin\n",
    "            temperature_kelvin = temperature_celsius + 273.15\n",
    "            return temperature_kelvin\n",
    "        else:       #To accept any other inputs for target scale\n",
    "            temperature_fahrenheit = (temperature_celsius * 1.8) + 32\n",
    "            return temperature_fahrenheit\n",
    "    \n",
    "    temperature_celsius = float(input(\"Input temperature in Celsius here: \"))\n",
    "    target_scale = input(\"Enter desired target scale here, 'Kelvin' or 'Fahrenheit': \")\n",
    "\n",
    "    if target_scale.lower() != 'kelvin': #To check for all variations of Kelvin in input\n",
    "        print(\"Scale has been set to Fahrenheit by default.\")\n",
    "        target_scale = 'Fahrenheit'  #To reset any input to Fahrenheit\n",
    "    \n",
    "    temperature_convert = convert_celsius(temperature_celsius, target_scale)\n",
    "    if isinstance(temperature_convert, float):\n",
    "        print(f\"The temperature converted to {target_scale} is {temperature_convert}.\")\n",
    "    else:\n",
    "        print(temperature_convert)  #To check for input below absolute zero"
   ]
  },
  {
   "cell_type": "markdown",
   "id": "8a3d08d1",
   "metadata": {},
   "source": [
    "### Exercise 2"
   ]
  },
  {
   "cell_type": "code",
   "execution_count": null,
   "id": "bc8e1726",
   "metadata": {},
   "outputs": [
    {
     "name": "stdout",
     "output_type": "stream",
     "text": [
      "Input temperature in Fahrenheit here: 87\n",
      "Enter desired target scale here, 'Celsius' or 'Kelvin': kelvin\n",
      "The temperature converted to kelvin is 303.7055555555555.\n",
      "Input temperature in Fahrenheit here: 90\n",
      "Enter desired target scale here, 'Celsius' or 'Kelvin': celsius\n",
      "Scale has been set to Celsius by default.\n",
      "The temperature converted to Celsius is 32.22222222222222.\n",
      "Input temperature in Fahrenheit here: -500\n",
      "Enter desired target scale here, 'Celsius' or 'Kelvin': Kelvin\n",
      "Temperature cannot be less than absolute zero.\n"
     ]
    }
   ],
   "source": [
    "while True:      #Allows function to continue running after each input\n",
    "\n",
    "    def convert_fahrenheit(temperature_fahrenheit, target_scale = 'Celsius'): #Defines function with two arguments\n",
    "        if temperature_fahrenheit < -459.67:   #To check for input below absolute zero\n",
    "            return \"Temperature cannot be less than absolute zero.\"\n",
    "        if target_scale.lower() == 'kelvin':   #To set Celsius as default, make Kelvin the first check, .lower() to accept all variations of Kelvin\n",
    "            temperature_kelvin = (temperature_fahrenheit - 32) * 5/9 + 273.15\n",
    "            return temperature_kelvin\n",
    "        else:       #To accept any other inputs for target scale\n",
    "            temperature_celsius = (temperature_fahrenheit - 32) * 5/9\n",
    "            return temperature_celsius\n",
    "    \n",
    "    temperature_fahrenheit = float(input(\"Input temperature in Fahrenheit here: \"))\n",
    "    target_scale = input(\"Enter desired target scale here, 'Celsius' or 'Kelvin': \")\n",
    "\n",
    "    if target_scale.lower() != 'kelvin': #To check for all variations of Kelvin in input\n",
    "        print(\"Scale has been set to Celsius by default.\")\n",
    "        target_scale = 'Celsius'  #To reset any input to Celsius\n",
    "    \n",
    "    temperature_convert = convert_fahrenheit(temperature_fahrenheit, target_scale)\n",
    "    if isinstance(temperature_convert, float):\n",
    "        print(f\"The temperature converted to {target_scale} is {temperature_convert}.\")\n",
    "    else:\n",
    "        print(temperature_convert)  #To check for input below absolute zero"
   ]
  },
  {
   "cell_type": "markdown",
   "id": "5d4ee786",
   "metadata": {},
   "source": [
    "### Exercise 3"
   ]
  },
  {
   "cell_type": "code",
   "execution_count": null,
   "id": "98108e63",
   "metadata": {},
   "outputs": [
    {
     "name": "stdout",
     "output_type": "stream",
     "text": [
      "Enter temperature here: 87\n",
      "Enter source scale here, 'Celsius, Kelvin, Fahrenheit': Kelvin\n",
      "Enter desired target scale here, 'Celsius, Kelvin, Fahrenheit': Fahrenheit\n",
      "The temperature converted to Fahrenheit is -303.07.\n",
      "Enter temperature here: 97\n",
      "Enter source scale here, 'Celsius, Kelvin, Fahrenheit': Celsius\n",
      "Enter desired target scale here, 'Celsius, Kelvin, Fahrenheit': Kelvin\n",
      "The temperature converted to Kelvin is 370.15.\n",
      "Enter temperature here: 97\n",
      "Enter source scale here, 'Celsius, Kelvin, Fahrenheit': Celsius\n",
      "Enter desired target scale here, 'Celsius, Kelvin, Fahrenheit': Celsius\n",
      "The temperature converted to Celsius is 97.0.\n",
      "Enter temperature here: -3\n",
      "Enter source scale here, 'Celsius, Kelvin, Fahrenheit': Kelvin\n",
      "Enter desired target scale here, 'Celsius, Kelvin, Fahrenheit': Celsius\n",
      "The temperature converted to Celsius is Temperature cannot be less than absolute zero..\n"
     ]
    }
   ],
   "source": [
    "while True:      #Allows function to continue running after each input\n",
    "\n",
    "    def convert_celsius(temperature_celsius, target_scale = 'Fahrenheit'): #Defines function with two arguments\n",
    "        if temperature_celsius < -273.15:   #To check for input below absolute zero\n",
    "            return \"Temperature cannot be less than absolute zero.\"\n",
    "        \n",
    "        if target_scale.lower() == 'kelvin':   #To set Fahrenheit as default, make Kelvin the first check, .lower() to accept all variations of Kelvin\n",
    "            temperature_kelvin = temperature_celsius + 273.15\n",
    "            return temperature_kelvin\n",
    "        elif target_scale.lower() == 'fahrenheit':\n",
    "            temperature_kelvin = (temperature_celsius * 1.8) + 32\n",
    "            return temperature_kelvin\n",
    "        else:       \n",
    "            return temperature_celsius\n",
    "   \n",
    "    def convert_fahrenheit(temperature_fahrenheit, target_scale = 'Celsius'): #Defines function with two arguments\n",
    "        if temperature_fahrenheit < -459.67:   #To check for input below absolute zero\n",
    "            return \"Temperature cannot be less than absolute zero.\"\n",
    "        \n",
    "        if target_scale.lower() == 'kelvin':   #To set Celsius as default, make Kelvin the first check, .lower() to accept all variations of Kelvin\n",
    "            temperature_kelvin = (temperature_fahrenheit - 32) * 5/9 + 273.15\n",
    "            return temperature_kelvin\n",
    "        elif target_scale.lower() == 'celsius':\n",
    "            temperature_celsius = (temperature_fahrenheit - 32) * 5/9\n",
    "            return temperature_celsius\n",
    "        else:       \n",
    "            return temperature_fahrenheit\n",
    "        \n",
    "    def convert_temperature(temperature, source_scale, target_scale): \n",
    "        if source_scale.lower() == 'celsius':\n",
    "            temperature_convert = convert_celsius(temperature, target_scale)\n",
    "        elif source_scale.lower() == 'fahrenheit':\n",
    "            temperature_convert = convert_fahrenheit(temperature, target_scale)\n",
    "        elif source_scale.lower() == 'kelvin':\n",
    "            temperature_celsius = temperature - 273.15\n",
    "            temperature_convert = convert_celsius(temperature_celsius, target_scale)\n",
    "        else:\n",
    "            temperature_convert = \"Invalid scale.\"\n",
    "        return temperature_convert\n",
    "    \n",
    "    temperature = float(input(\"Enter temperature here: \"))\n",
    "    source_scale = input(\"Enter source scale here, 'Celsius, Kelvin, Fahrenheit': \")\n",
    "    target_scale = input(\"Enter desired target scale here, 'Celsius, Kelvin, Fahrenheit': \")\n",
    "    \n",
    "    temperature_convert = convert_temperature(temperature, source_scale, target_scale)\n",
    "    print(f\"The temperature converted to {target_scale} is {temperature_convert}.\")"
   ]
  },
  {
   "cell_type": "code",
   "execution_count": null,
   "id": "6215c528",
   "metadata": {},
   "outputs": [
    {
     "name": "stdout",
     "output_type": "stream",
     "text": [
      "Enter temperature here: -3\n",
      "Enter source scale here, 'Celsius, Kelvin, Fahrenheit': Kelvin\n",
      "Enter desired target scale here, 'Celsius, Kelvin, Fahrenheit': Celsius\n",
      "Temperature cannot be less than absolute zero.\n",
      "Enter temperature here: 89\n",
      "Enter source scale here, 'Celsius, Kelvin, Fahrenheit': Kelvin\n",
      "Enter desired target scale here, 'Celsius, Kelvin, Fahrenheit': Kelvin\n",
      "The temperature converted to Kelvin is 89.0.\n",
      "Enter temperature here: 78\n",
      "Enter source scale here, 'Celsius, Kelvin, Fahrenheit': Celsius\n",
      "Enter desired target scale here, 'Celsius, Kelvin, Fahrenheit': Joules\n",
      "The temperature converted to Joules is 78.0.\n"
     ]
    }
   ],
   "source": [
    "while True:      #Allows function to continue running after each input\n",
    "\n",
    "    def convert_celsius(temperature_celsius, target_scale = 'Fahrenheit'): #Defines function with two arguments\n",
    "        if temperature_celsius < -273.15:   #To check for input below absolute zero\n",
    "            return \"Temperature cannot be less than absolute zero.\"\n",
    "        \n",
    "        if target_scale.lower() == 'kelvin':   #To set Fahrenheit as default, make Kelvin the first check, .lower() to accept all variations of Kelvin\n",
    "            temperature_kelvin = temperature_celsius + 273.15\n",
    "            return temperature_kelvin\n",
    "        elif target_scale.lower() == 'fahrenheit':\n",
    "            temperature_kelvin = (temperature_celsius * 1.8) + 32\n",
    "            return temperature_kelvin\n",
    "        else:       \n",
    "            return temperature_celsius\n",
    "   \n",
    "    def convert_fahrenheit(temperature_fahrenheit, target_scale = 'Celsius'): #Defines function with two arguments\n",
    "        if temperature_fahrenheit < -459.67:   #To check for input below absolute zero\n",
    "            return \"Temperature cannot be less than absolute zero.\"\n",
    "        \n",
    "        if target_scale.lower() == 'kelvin':   #To set Celsius as default, make Kelvin the first check, .lower() to accept all variations of Kelvin\n",
    "            temperature_kelvin = (temperature_fahrenheit - 32) * 5/9 + 273.15\n",
    "            return temperature_kelvin\n",
    "        elif target_scale.lower() == 'celsius':\n",
    "            temperature_celsius = (temperature_fahrenheit - 32) * 5/9\n",
    "            return temperature_celsius\n",
    "        else:       \n",
    "            return temperature_fahrenheit\n",
    "        \n",
    "    def convert_temperature(temperature, source_scale, target_scale): \n",
    "        if source_scale.lower() == 'celsius':\n",
    "            temperature_convert = convert_celsius(temperature, target_scale)\n",
    "        elif source_scale.lower() == 'fahrenheit':\n",
    "            temperature_convert = convert_fahrenheit(temperature, target_scale)\n",
    "        elif source_scale.lower() == 'kelvin':\n",
    "            temperature_celsius = temperature - 273.15\n",
    "            temperature_convert = convert_celsius(temperature_celsius, target_scale)\n",
    "        else:\n",
    "            temperature_convert = \"Invalid scale.\"\n",
    "        return temperature_convert\n",
    "    \n",
    "    temperature = float(input(\"Enter temperature here: \"))\n",
    "    source_scale = input(\"Enter source scale here, 'Celsius, Kelvin, Fahrenheit': \")\n",
    "    target_scale = input(\"Enter desired target scale here, 'Celsius, Kelvin, Fahrenheit': \")\n",
    "    \n",
    "    temperature_convert = convert_temperature(temperature, source_scale, target_scale)\n",
    "    if isinstance(temperature_convert, float):\n",
    "        print(f\"The temperature converted to {target_scale} is {temperature_convert}.\")\n",
    "    else:\n",
    "        print(temperature_convert)"
   ]
  },
  {
   "cell_type": "code",
   "execution_count": null,
   "id": "6ab70670",
   "metadata": {},
   "outputs": [],
   "source": []
  }
 ],
 "metadata": {
  "kernelspec": {
   "display_name": "Python 3 (ipykernel)",
   "language": "python",
   "name": "python3"
  },
  "language_info": {
   "codemirror_mode": {
    "name": "ipython",
    "version": 3
   },
   "file_extension": ".py",
   "mimetype": "text/x-python",
   "name": "python",
   "nbconvert_exporter": "python",
   "pygments_lexer": "ipython3",
   "version": "3.9.13"
  },
  "toc": {
   "base_numbering": 1,
   "nav_menu": {},
   "number_sections": true,
   "sideBar": true,
   "skip_h1_title": false,
   "title_cell": "Table of Contents",
   "title_sidebar": "Contents",
   "toc_cell": false,
   "toc_position": {},
   "toc_section_display": true,
   "toc_window_display": false
  },
  "vscode": {
   "interpreter": {
    "hash": "31f2aee4e71d21fbe5cf8b01ff0e069b9275f58929596ceb00d14d90e3e16cd6"
   }
  }
 },
 "nbformat": 4,
 "nbformat_minor": 5
}
