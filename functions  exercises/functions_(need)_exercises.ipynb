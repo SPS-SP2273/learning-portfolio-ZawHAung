{
 "cells": [
  {
   "cell_type": "markdown",
   "id": "123456",
   "metadata": {},
   "source": [
    "<div style=\"text-align:left;font-size:2em\"><span style=\"font-weight:bolder;font-size:1.25em\">SP2273 | Learning Portfolio</span><br><br><span style=\"font-weight:bold;color:darkred\">Functions (Need) Exercises</span></div>"
   ]
  },
  {
   "cell_type": "markdown",
   "id": "91330ed8",
   "metadata": {},
   "source": [
    "### Exercise 1"
   ]
  },
  {
   "cell_type": "code",
   "execution_count": 1,
   "id": "3541394b",
   "metadata": {},
   "outputs": [],
   "source": [
    "def greeting(name):\n",
    "    if name == 'Batman':\n",
    "        return 'Hello Batman! So, nice to meet you!'\n",
    "    return f'Hello {name}!'"
   ]
  },
  {
   "cell_type": "code",
   "execution_count": 7,
   "id": "433eb305",
   "metadata": {},
   "outputs": [],
   "source": [
    "def greeting(name):\n",
    "    if name == 'Batman':\n",
    "        return 'Hello Batman! So, nice to meet you!'\n",
    "    else:\n",
    "        return f'Goodbye {name}!'"
   ]
  },
  {
   "cell_type": "code",
   "execution_count": 8,
   "id": "40a6f7b0",
   "metadata": {},
   "outputs": [
    {
     "data": {
      "text/plain": [
       "'Goodbye Garfield!'"
      ]
     },
     "execution_count": 8,
     "metadata": {},
     "output_type": "execute_result"
    }
   ],
   "source": [
    "greeting('Garfield')"
   ]
  },
  {
   "cell_type": "markdown",
   "id": "66623a49",
   "metadata": {},
   "source": [
    "The usage of 'return f'Hello {name}!' is equivalent to the 'else' statement considering that it is not nested within the initial 'if' statement, as the 'return' statement will result in the disruption of the function to provide the return value. In this case, the 'else' statement is redundant as it will return the same value."
   ]
  },
  {
   "cell_type": "markdown",
   "id": "69454a51",
   "metadata": {},
   "source": [
    "### Exercise 1 Updated"
   ]
  },
  {
   "cell_type": "markdown",
   "id": "00733977",
   "metadata": {},
   "source": [
    "In the function, the conditional statement first checks the name parameter. If the condition is true, the function returns a specific requested output.\n",
    "\n",
    "However, if condition is false, the function continues to the next line, which is a return statement outside the if block. When a function encounters a return statement, it exits the function immediately. Therefore, if the condition is not met, the function proceeds to the next line and returns the other output. 'else' is not necessary because the return statement outside the 'if' block will be executed if the condition is not met.\n",
    "\n",
    "Hence, the output will be the same as using an 'else' statement."
   ]
  },
  {
   "cell_type": "markdown",
   "id": "3928e487",
   "metadata": {},
   "source": [
    "### Exercise 2"
   ]
  },
  {
   "cell_type": "code",
   "execution_count": 20,
   "id": "7724a26c",
   "metadata": {},
   "outputs": [
    {
     "name": "stdout",
     "output_type": "stream",
     "text": [
      "Enter your weight in kilograms: 98\n",
      "Enter your height in meters: 1.87\n",
      "Your BMI category is overweight.\n"
     ]
    }
   ],
   "source": [
    "def calculate_bmi(weight, height):     #Defining the function\n",
    "    BMI = weight / (height**2)         #Formula for BMI\n",
    "    if weight <= 0 or height <= 0:     #To check for invalid values\n",
    "        return \"Input must be more a positive value.\"\n",
    "    elif BMI < 18.5:\n",
    "        return \"Your BMI category is underweight.\"\n",
    "    elif 18.5 <= BMI < 25:\n",
    "        return \"Your BMI category is normal.\"\n",
    "    elif 25 <= BMI <= 30:\n",
    "        return \"Your BMI category is overweight.\"\n",
    "    elif 30 <= BMI:\n",
    "        return \"Your BMI category is obese.\"\n",
    "    return \"Invalid BMI value.\"\n",
    "\n",
    "weight = float(input(\"Enter your weight in kilograms: \"))\n",
    "height = float(input(\"Enter your height in meters: \"))\n",
    "\n",
    "print(calculate_bmi(weight,height))"
   ]
  },
  {
   "cell_type": "code",
   "execution_count": 21,
   "id": "3e219a7c",
   "metadata": {},
   "outputs": [
    {
     "name": "stdout",
     "output_type": "stream",
     "text": [
      "Enter your weight in kilograms: -9\n",
      "Enter your height in meters: 1.89\n",
      "Input must be more a positive value.\n"
     ]
    }
   ],
   "source": [
    "def calculate_bmi(weight, height):     #Defining the function\n",
    "    BMI = weight / (height**2)         #Formula for BMI\n",
    "    if weight <= 0 or height <= 0:     #To check for invalid values\n",
    "        return \"Weight or height input must be a positive value.\"\n",
    "    elif BMI < 18.5:\n",
    "        return \"Your BMI category is underweight.\"\n",
    "    elif 18.5 <= BMI < 25:\n",
    "        return \"Your BMI category is normal.\"\n",
    "    elif 25 <= BMI <= 30:\n",
    "        return \"Your BMI category is overweight.\"\n",
    "    elif 30 <= BMI:\n",
    "        return \"Your BMI category is obese.\"\n",
    "    return \"Invalid BMI value.\"\n",
    "\n",
    "weight = float(input(\"Enter your weight in kilograms: \")) #Float to ensure that values are converted from string to numerical and can be used in calculation\n",
    "height = float(input(\"Enter your height in meters: \"))\n",
    "\n",
    "print(calculate_bmi(weight,height))"
   ]
  },
  {
   "cell_type": "code",
   "execution_count": null,
   "id": "a99f5110",
   "metadata": {},
   "outputs": [
    {
     "name": "stdout",
     "output_type": "stream",
     "text": [
      "Enter your weight in kilograms: 89\n",
      "Enter your height in meters: 1.96\n",
      "Your BMI category is normal.\n",
      "Enter your weight in kilograms: 56\n",
      "Enter your height in meters: 1.65\n",
      "Your BMI category is normal.\n",
      "Enter your weight in kilograms: 67\n",
      "Enter your height in meters: 1.54\n",
      "Your BMI category is overweight.\n"
     ]
    }
   ],
   "source": [
    "while True:  #To allow function to continue running after each input\n",
    "\n",
    "    def calculate_bmi(weight, height):     #Defining the function\n",
    "        BMI = weight / (height**2)         #Formula for BMI\n",
    "        if weight <= 0 or height <= 0:     #To check for invalid values\n",
    "            return \"Weight or height input must be a positive value.\"\n",
    "        elif BMI < 18.5:\n",
    "            return \"Your BMI category is underweight.\"\n",
    "        elif 18.5 <= BMI < 25:\n",
    "            return \"Your BMI category is normal.\"\n",
    "        elif 25 <= BMI <= 30:\n",
    "            return \"Your BMI category is overweight.\"\n",
    "        elif 30 <= BMI:\n",
    "            return \"Your BMI category is obese.\"\n",
    "        return \"Invalid BMI value.\"\n",
    "\n",
    "    weight = float(input(\"Enter your weight in kilograms: \")) #Float to ensure that values are converted from string to numerical and can be used in calculation\n",
    "    height = float(input(\"Enter your height in meters: \"))\n",
    "\n",
    "    print(calculate_bmi(weight,height))"
   ]
  },
  {
   "cell_type": "markdown",
   "id": "3d60b5d3",
   "metadata": {},
   "source": [
    "### Exercise 2 Updated"
   ]
  },
  {
   "cell_type": "code",
   "execution_count": null,
   "id": "3782ae2e",
   "metadata": {},
   "outputs": [
    {
     "name": "stdout",
     "output_type": "stream",
     "text": [
      "Enter your weight in kilograms: ABC\n",
      "Invalid input: could not convert string to float: 'ABC'. Please enter positive numerical values for weight and height.\n",
      "Enter your weight in kilograms: 123\n",
      "Enter your height in meters: -5\n",
      "Invalid input: Height must be a positive number. Please enter positive numerical values for weight and height.\n"
     ]
    }
   ],
   "source": [
    "while True:\n",
    "    try:                                                               #Switched to try-except to filter out non-numerical input\n",
    "        weight = float(input(\"Enter your weight in kilograms: \"))\n",
    "        height = float(input(\"Enter your height in meters: \"))\n",
    "        \n",
    "        if weight <= 0:\n",
    "            raise ValueError(\"Weight must be a positive number\")       #Clarity for if weight is the wrong input\n",
    "        if height <= 0:\n",
    "            raise ValueError(\"Height must be a positive number\")       #Clarity for if height is the wrong input\n",
    "        BMI = weight / (height**2)\n",
    "        if BMI < 18.5:\n",
    "            print(\"Your BMI category is underweight.\")\n",
    "        elif 18.5 <= BMI < 25:\n",
    "            print(\"Your BMI category is normal.\")\n",
    "        elif 25 <= BMI <= 30:\n",
    "            print(\"Your BMI category is overweight.\")\n",
    "        elif 30 <= BMI:\n",
    "            print(\"Your BMI category is obese.\")\n",
    "    \n",
    "    except ValueError as e:\n",
    "        print(f\"Invalid input: {e}. Please enter positive numerical values for weight and height.\")\n",
    "    "
   ]
  }
 ],
 "metadata": {
  "kernelspec": {
   "display_name": "Python 3 (ipykernel)",
   "language": "python",
   "name": "python3"
  },
  "language_info": {
   "codemirror_mode": {
    "name": "ipython",
    "version": 3
   },
   "file_extension": ".py",
   "mimetype": "text/x-python",
   "name": "python",
   "nbconvert_exporter": "python",
   "pygments_lexer": "ipython3",
   "version": "3.9.13"
  },
  "toc": {
   "base_numbering": 1,
   "nav_menu": {},
   "number_sections": true,
   "sideBar": true,
   "skip_h1_title": false,
   "title_cell": "Table of Contents",
   "title_sidebar": "Contents",
   "toc_cell": false,
   "toc_position": {},
   "toc_section_display": true,
   "toc_window_display": false
  },
  "vscode": {
   "interpreter": {
    "hash": "31f2aee4e71d21fbe5cf8b01ff0e069b9275f58929596ceb00d14d90e3e16cd6"
   }
  }
 },
 "nbformat": 4,
 "nbformat_minor": 5
}
