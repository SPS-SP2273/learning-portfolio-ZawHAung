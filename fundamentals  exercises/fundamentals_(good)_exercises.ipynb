{
 "cells": [
  {
   "cell_type": "markdown",
   "id": "123456",
   "metadata": {},
   "source": [
    "<div style=\"text-align:left;font-size:2em\"><span style=\"font-weight:bolder;font-size:1.25em\">SP2273 | Learning Portfolio</span><br><br><span style=\"font-weight:bold;color:darkred\">Fundamentals (Good) Exercises</span></div>"
   ]
  },
  {
   "cell_type": "markdown",
   "id": "1608a141",
   "metadata": {},
   "source": [
    "## Step 1"
   ]
  },
  {
   "cell_type": "code",
   "execution_count": 1,
   "id": "7cf18f37",
   "metadata": {},
   "outputs": [
    {
     "name": "stdout",
     "output_type": "stream",
     "text": [
      "Give me a number?3\n",
      "You entered 3\n"
     ]
    }
   ],
   "source": [
    "user_input = input('Give me a number?')\n",
    "print('You entered', user_input)"
   ]
  },
  {
   "cell_type": "code",
   "execution_count": 2,
   "id": "31a34cdf",
   "metadata": {},
   "outputs": [
    {
     "name": "stdout",
     "output_type": "stream",
     "text": [
      "Give me a number? 4\n",
      "You entered  4\n"
     ]
    }
   ],
   "source": [
    "user_input = input('Give me a number?')\n",
    "print('You entered', user_input)"
   ]
  },
  {
   "cell_type": "code",
   "execution_count": 1,
   "id": "7a9a7199",
   "metadata": {
    "scrolled": true
   },
   "outputs": [
    {
     "name": "stdout",
     "output_type": "stream",
     "text": [
      "Give me a number?3\n",
      "You entered 3\n"
     ]
    }
   ],
   "source": [
    "user_input = input('Give me a number?')\n",
    "print('You entered', user_input)"
   ]
  },
  {
   "cell_type": "code",
   "execution_count": null,
   "id": "f49c9321",
   "metadata": {},
   "outputs": [
    {
     "name": "stdout",
     "output_type": "stream",
     "text": [
      "Give me a number?3\n",
      "You entered 3\n",
      "Give me a number?4\n",
      "You entered 4\n",
      "Give me a number?5\n",
      "You entered 5\n",
      "Give me a number?6\n",
      "You entered 6\n"
     ]
    }
   ],
   "source": [
    "while True:    #To allow function to run without having to copy and paste each time\n",
    "    user_input = input('Give me a number?')\n",
    "    print('You entered', user_input)"
   ]
  },
  {
   "cell_type": "code",
   "execution_count": null,
   "id": "5a6e84d9",
   "metadata": {
    "scrolled": true
   },
   "outputs": [
    {
     "name": "stdout",
     "output_type": "stream",
     "text": [
      "Give me a number? 3\n",
      "You entered 3\n",
      "Give me a number? 4\n",
      "You entered 4\n",
      "Give me a number? 6\n",
      "You entered 6\n"
     ]
    }
   ],
   "source": [
    "while True:    #To allow function to run without having to copy and paste each time\n",
    "    user_input = input('Give me a number? ')  #Added space to increase readability\n",
    "    print('You entered', user_input)"
   ]
  },
  {
   "cell_type": "markdown",
   "id": "2be4c0da",
   "metadata": {},
   "source": [
    "## Task"
   ]
  },
  {
   "cell_type": "code",
   "execution_count": 2,
   "id": "b3934098",
   "metadata": {},
   "outputs": [
    {
     "name": "stdout",
     "output_type": "stream",
     "text": [
      "Enter student's score21\n"
     ]
    }
   ],
   "source": [
    "user_input = input('Enter student\\'s score')"
   ]
  },
  {
   "cell_type": "code",
   "execution_count": 5,
   "id": "bbb625c1",
   "metadata": {},
   "outputs": [
    {
     "name": "stdout",
     "output_type": "stream",
     "text": [
      "Enter the student's score89\n",
      "The student's letter grade is A\n"
     ]
    }
   ],
   "source": [
    "user_input = input('Enter the student\\'s score')\n",
    "x = float(user_input)\n",
    "if 70 < x < 100:\n",
    "    print('The student\\'s letter grade is A')\n",
    "elif 50 < x < 69:\n",
    "    print('The student\\'s letter grade is B')\n",
    "elif 35 < x < 49:\n",
    "    print('The student\\'s letter grade is C')\n",
    "elif 0 < x < 34:\n",
    "    print('The student has failed')\n",
    "else:\n",
    "    print('Enter a valid score')"
   ]
  },
  {
   "cell_type": "code",
   "execution_count": 9,
   "id": "d0cf5287",
   "metadata": {},
   "outputs": [
    {
     "name": "stdout",
     "output_type": "stream",
     "text": [
      "Enter the student's score35\n",
      "The student's letter grade is C\n"
     ]
    }
   ],
   "source": [
    "user_input = input('Enter the student\\'s score')\n",
    "x = float(user_input)\n",
    "if 70 <= x <= 100:    #Changed to <= to allow for greater/less than or equal to\n",
    "    print('The student\\'s letter grade is A')\n",
    "elif 50 <= x <= 69:\n",
    "    print('The student\\'s letter grade is B')\n",
    "elif 35 <= x <= 49:\n",
    "    print('The student\\'s letter grade is C')\n",
    "elif 0 <= x <= 34:\n",
    "    print('The student has failed')\n",
    "else:\n",
    "    print('Enter a valid score')"
   ]
  },
  {
   "cell_type": "code",
   "execution_count": 12,
   "id": "8d98c538",
   "metadata": {},
   "outputs": [
    {
     "name": "stdout",
     "output_type": "stream",
     "text": [
      "Enter the student's score-9\n",
      "Enter a valid score\n"
     ]
    }
   ],
   "source": [
    "user_input = input('Enter the student\\'s score')\n",
    "x = float(user_input)\n",
    "if 70 <= x <= 100:    \n",
    "    print('The student\\'s letter grade is A')\n",
    "elif 50 <= x <= 69:\n",
    "    print('The student\\'s letter grade is B')\n",
    "elif 35 <= x <= 49:\n",
    "    print('The student\\'s letter grade is C')\n",
    "elif 0 <= x <= 34:\n",
    "    print('The student has failed.')\n",
    "else:\n",
    "    print('Please enter a valid score.')"
   ]
  },
  {
   "cell_type": "code",
   "execution_count": 10,
   "id": "29a3ba99",
   "metadata": {},
   "outputs": [
    {
     "name": "stdout",
     "output_type": "stream",
     "text": [
      "Enter the student's score -32\n",
      "Enter a numeric value from 0 to 100.\n"
     ]
    }
   ],
   "source": [
    "user_input = input('Enter the student\\'s score ')\n",
    "if not user_input.isnumeric():   #Added to check and remove non-numerical input\n",
    "    print(\"Enter a numeric value from 0 to 100.\")\n",
    "\n",
    "else:\n",
    "    x = float(user_input)\n",
    "    if 70 <= x <= 100:   \n",
    "        print('The student\\'s letter grade is A')\n",
    "    elif 50 <= x <= 69:\n",
    "        print('The student\\'s letter grade is B')\n",
    "    elif 35 <= x <= 49:\n",
    "        print('The student\\'s letter grade is C')\n",
    "    elif 0 <= x <= 34:\n",
    "        print('The student has failed.')\n",
    "    else:      #To check for values less than 0 and more than 100\n",
    "        print('Please enter a valid score from 0 to 100.')"
   ]
  },
  {
   "cell_type": "markdown",
   "id": "8b896618",
   "metadata": {},
   "source": [
    "## Final solution"
   ]
  },
  {
   "cell_type": "code",
   "execution_count": null,
   "id": "0712fdf4",
   "metadata": {},
   "outputs": [
    {
     "name": "stdout",
     "output_type": "stream",
     "text": [
      "Enter the student's score 98\n",
      "The student's letter grade is A\n",
      "Enter the student's score 90\n",
      "The student's letter grade is A\n",
      "Enter the student's score 123\n",
      "Please enter a valid score from 0 to 100.\n",
      "Enter the student's score -100\n",
      "Please enter a valid score from 0 to 100.\n",
      "Enter the student's score ABC\n",
      "Please input a numeric value from 0 to 100.\n",
      "Enter the student's score 32.3\n",
      "The student has failed.\n"
     ]
    }
   ],
   "source": [
    "while True:  #To allow the function to continue running after each input\n",
    "\n",
    "    try:   #To check for non-numeric inputs, reference from Chapter 5\n",
    "        user_input = input('Enter the student\\'s score ')\n",
    "        x = float(user_input)\n",
    "        if 70 <= x <= 100:    #Changed to <= to allow for greater/less than or equal to\n",
    "            print('The student\\'s letter grade is A')\n",
    "        elif 50 <= x <= 69:\n",
    "            print('The student\\'s letter grade is B')\n",
    "        elif 35 <= x <= 49:\n",
    "            print('The student\\'s letter grade is C')\n",
    "        elif 0 <= x <= 34:\n",
    "            print('The student has failed.')\n",
    "        else:      #To check for values less than 0 and more than 100\n",
    "            print('Please enter a valid score from 0 to 100.')\n",
    "        \n",
    "    except:\n",
    "        print('Please input a numeric value from 0 to 100.')\n",
    "        "
   ]
  }
 ],
 "metadata": {
  "kernelspec": {
   "display_name": "Python 3 (ipykernel)",
   "language": "python",
   "name": "python3"
  },
  "language_info": {
   "codemirror_mode": {
    "name": "ipython",
    "version": 3
   },
   "file_extension": ".py",
   "mimetype": "text/x-python",
   "name": "python",
   "nbconvert_exporter": "python",
   "pygments_lexer": "ipython3",
   "version": "3.9.13"
  },
  "toc": {
   "base_numbering": 1,
   "nav_menu": {},
   "number_sections": true,
   "sideBar": true,
   "skip_h1_title": false,
   "title_cell": "Table of Contents",
   "title_sidebar": "Contents",
   "toc_cell": false,
   "toc_position": {},
   "toc_section_display": true,
   "toc_window_display": false
  },
  "vscode": {
   "interpreter": {
    "hash": "31f2aee4e71d21fbe5cf8b01ff0e069b9275f58929596ceb00d14d90e3e16cd6"
   }
  }
 },
 "nbformat": 4,
 "nbformat_minor": 5
}
