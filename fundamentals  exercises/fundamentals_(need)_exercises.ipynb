{
 "cells": [
  {
   "cell_type": "markdown",
   "id": "123456",
   "metadata": {},
   "source": [
    "<div style=\"text-align:left;font-size:2em\"><span style=\"font-weight:bolder;font-size:1.25em\">SP2273 | Learning Portfolio</span><br><br><span style=\"font-weight:bold;color:darkred\">Fundamentals (Need) Exercises</span></div>"
   ]
  },
  {
   "cell_type": "markdown",
   "id": "b07fd920",
   "metadata": {},
   "source": [
    "### Exercise 1"
   ]
  },
  {
   "cell_type": "markdown",
   "id": "c530a243",
   "metadata": {},
   "source": [
    "1. Executes functions to run a specific task\n",
    "2. It is case-sensitive\n",
    "3. Base Python has limited functions and requires the installation of packages to access more functions, such as to execute compelx arithmetics\n",
    "4. You can add comments after your code to help you keep track and remember what each line of code does\n",
    "5. Accidentally duplicating a symbol will result in a different function (e.g., * means multiply but ** means power; = is to assign a value while == is to check the value)\n",
    "6. Proper use of identations are crucial for the code to run successfully\n",
    "7. Variables can be changed into values with the addition of '\n",
    "8. _Lists can be created using brackets_\n",
    "9. _Dot indicates ownership of the function_\n",
    "10. _Python is really an interpreter and only works sequentially, one command at a time. It will stop running when there is an error_\n",
    "11. _if-else statements can be used to make decisions and branch the flow of the program_\n",
    "\n"
   ]
  },
  {
   "cell_type": "markdown",
   "id": "b98aade4",
   "metadata": {},
   "source": [
    "### Exercise 2"
   ]
  },
  {
   "cell_type": "code",
   "execution_count": 2,
   "id": "c3e01a34",
   "metadata": {},
   "outputs": [
    {
     "ename": "IndentationError",
     "evalue": "unindent does not match any outer indentation level (<tokenize>, line 3)",
     "output_type": "error",
     "traceback": [
      "\u001b[1;36m  File \u001b[1;32m\"<tokenize>\"\u001b[1;36m, line \u001b[1;32m3\u001b[0m\n\u001b[1;33m    Print(x, y, z)\u001b[0m\n\u001b[1;37m    ^\u001b[0m\n\u001b[1;31mIndentationError\u001b[0m\u001b[1;31m:\u001b[0m unindent does not match any outer indentation level\n"
     ]
    }
   ],
   "source": [
    "x, y = 3, 4\n",
    "        z = sqrt(x*2 + y**2)\n",
    "    Print(x, y, z)"
   ]
  },
  {
   "cell_type": "code",
   "execution_count": 3,
   "id": "03ed35fe",
   "metadata": {},
   "outputs": [],
   "source": [
    "import math #Importing the math package to use the sqrt command"
   ]
  },
  {
   "cell_type": "code",
   "execution_count": 7,
   "id": "016c770b",
   "metadata": {},
   "outputs": [
    {
     "name": "stdout",
     "output_type": "stream",
     "text": [
      "3 4 5.0\n"
     ]
    }
   ],
   "source": [
    "x, y = 3, 4                            # Make x and y take value of 3 and 4 respectively\n",
    "z = math.sqrt(x**2 + y**2)             # Removed indentation as it will not be able to recognize the equation, added math function to use sqrt, added one more asterisk for square function\n",
    "print (x,y,z)                          # Changed 'Print' to 'print' as Python is case-sensitive"
   ]
  },
  {
   "cell_type": "markdown",
   "id": "7c627026",
   "metadata": {},
   "source": [
    "### Exercise 3"
   ]
  },
  {
   "cell_type": "markdown",
   "id": "7024c70c",
   "metadata": {},
   "source": [
    "|  # | Term         | Description                                                              |\n",
    "|:--:|:-------------|:-------------------------------------------------------------------------|\n",
    "|  1 | Function     | Line of code that runs a specific task                                   |\n",
    "|  2 | Arguments    | Value that is assigned to a function when it is run                      |\n",
    "|  3 | Comments     | Helps to understand the code that is written, will not be recognized     |\n",
    "|  4 | Indentations | Separates 'True' and 'False' blocks                                      |\n",
    "|  5 | Packages     | Provides different functionalities that are not found in the base Python |\n",
    "|  6 | `.`          | Indicates ownership of a function                                        |\n",
    "|  7 | `:`          | Indicates a block of code                                                |\n",
    "|  8 | `[]`         | Creates a 1D list to store data                                          |\n",
    "|  9 | `[[[]]]`     | Creates a 3D list to store data                                          |\n",
    "| 10 | `{}`         | Used to store data in a dictionary                                       |"
   ]
  },
  {
   "cell_type": "markdown",
   "id": "6e689b7a",
   "metadata": {},
   "source": [
    "|  # | Term         | Description                                                              |\n",
    "|:--:|:-------------|:----------------------------------------------------------------------------------------------------|\n",
    "|  1 | Function     | Line or block of code that runs a specific task                                                     | \n",
    "|  2 | Arguments    | Value that is assigned to a function when it is run                                                 | \n",
    "|  3 | Comments     | Helps to understand the code that is written, will not be recognized                                |\n",
    "|  4 | Indentations | Used to structure blocks of codes and define their scope within control structures                  |\n",
    "|  5 | Packages     | Provides different functionalities that are not found in the base Python                            |\n",
    "|  6 | `.`          | Indicates ownership                                                                                 |\n",
    "|  7 | `:`          | Indicates a block of code                                                                           |\n",
    "|  8 | `[]`         | Creates a 1D list to store data, also used for indexing and slicing and list comprehension          |\n",
    "|  9 | `[[[]]]`     | Creates a 3D list to store data                                                                     |\n",
    "| 10 | `{}`         | Used to store data in a dictionary, and create sets                                                 |"
   ]
  },
  {
   "cell_type": "markdown",
   "id": "b62d9943",
   "metadata": {},
   "source": [
    "### Exercise 4"
   ]
  },
  {
   "cell_type": "code",
   "execution_count": 1,
   "id": "f7145f38",
   "metadata": {},
   "outputs": [
    {
     "data": {
      "text/plain": [
       "2.5"
      ]
     },
     "execution_count": 1,
     "metadata": {},
     "output_type": "execute_result"
    }
   ],
   "source": [
    "5/2"
   ]
  },
  {
   "cell_type": "code",
   "execution_count": 2,
   "id": "a153402b",
   "metadata": {},
   "outputs": [
    {
     "data": {
      "text/plain": [
       "2.5"
      ]
     },
     "execution_count": 2,
     "metadata": {},
     "output_type": "execute_result"
    }
   ],
   "source": [
    "5/2        #Divides 5 by 2 normally"
   ]
  },
  {
   "cell_type": "code",
   "execution_count": 3,
   "id": "fd1a73fe",
   "metadata": {},
   "outputs": [
    {
     "data": {
      "text/plain": [
       "2"
      ]
     },
     "execution_count": 3,
     "metadata": {},
     "output_type": "execute_result"
    }
   ],
   "source": [
    "5//2"
   ]
  },
  {
   "cell_type": "code",
   "execution_count": 4,
   "id": "e4cc6a0d",
   "metadata": {},
   "outputs": [
    {
     "data": {
      "text/plain": [
       "2"
      ]
     },
     "execution_count": 4,
     "metadata": {},
     "output_type": "execute_result"
    }
   ],
   "source": [
    "5//2       #Divides 5 by 2 but only takes the quotient of the result and discards the remainder"
   ]
  },
  {
   "cell_type": "code",
   "execution_count": 5,
   "id": "6c657381",
   "metadata": {},
   "outputs": [
    {
     "data": {
      "text/plain": [
       "1"
      ]
     },
     "execution_count": 5,
     "metadata": {},
     "output_type": "execute_result"
    }
   ],
   "source": [
    "5%2"
   ]
  },
  {
   "cell_type": "code",
   "execution_count": null,
   "id": "92bd9d1e",
   "metadata": {},
   "outputs": [],
   "source": [
    "5%2        #Divides 5 by 2 but only takes the remainder of the result"
   ]
  }
 ],
 "metadata": {
  "kernelspec": {
   "display_name": "Python 3 (ipykernel)",
   "language": "python",
   "name": "python3"
  },
  "language_info": {
   "codemirror_mode": {
    "name": "ipython",
    "version": 3
   },
   "file_extension": ".py",
   "mimetype": "text/x-python",
   "name": "python",
   "nbconvert_exporter": "python",
   "pygments_lexer": "ipython3",
   "version": "3.9.13"
  },
  "toc": {
   "base_numbering": 1,
   "nav_menu": {},
   "number_sections": true,
   "sideBar": true,
   "skip_h1_title": false,
   "title_cell": "Table of Contents",
   "title_sidebar": "Contents",
   "toc_cell": false,
   "toc_position": {},
   "toc_section_display": true,
   "toc_window_display": false
  },
  "vscode": {
   "interpreter": {
    "hash": "31f2aee4e71d21fbe5cf8b01ff0e069b9275f58929596ceb00d14d90e3e16cd6"
   }
  }
 },
 "nbformat": 4,
 "nbformat_minor": 5
}
