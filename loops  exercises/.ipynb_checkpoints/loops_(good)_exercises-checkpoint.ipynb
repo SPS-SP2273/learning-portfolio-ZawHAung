{
 "cells": [
  {
   "cell_type": "markdown",
   "id": "123456",
   "metadata": {},
   "source": [
    "<div style=\"text-align:left;font-size:2em\"><span style=\"font-weight:bolder;font-size:1.25em\">SP2273 | Learning Portfolio</span><br><br><span style=\"font-weight:bold;color:darkred\">Loops (Good) Exercises</span></div>"
   ]
  },
  {
   "cell_type": "code",
   "execution_count": 19,
   "id": "7eb53884",
   "metadata": {
    "scrolled": true
   },
   "outputs": [
    {
     "name": "stdout",
     "output_type": "stream",
     "text": [
      "[1, 9, 25, 49, 81]\n"
     ]
    }
   ],
   "source": [
    "odd_list = []                    #Create new empty list to store the squares of odd integers from 0 to 9\n",
    "for number in range(10):         #For all values from 0 - 9\n",
    "    if number % 2 == 0:          #If the value returns a remainder of 0, such that it is divisible by 2, i.e., not odd\n",
    "        continue                 #Do not proceed with the following function\n",
    "    odd_list.append(number**2)   #If integer is odd, square the number and append to empty list, repeat until all integers from 0 to 9 checked\n",
    "\n",
    "print(odd_list)                  #Print final list of squares of odd integers from 0 to 9"
   ]
  },
  {
   "cell_type": "code",
   "execution_count": 5,
   "id": "9750654e",
   "metadata": {},
   "outputs": [
    {
     "name": "stdout",
     "output_type": "stream",
     "text": [
      "[1, 9, 25, 49, 81]\n"
     ]
    }
   ],
   "source": [
    "odd_list_new = [number**2 for number in range(10) if number % 2 == 1]\n",
    "print(odd_list_new)"
   ]
  },
  {
   "cell_type": "code",
   "execution_count": 6,
   "id": "704bed79",
   "metadata": {},
   "outputs": [
    {
     "name": "stdout",
     "output_type": "stream",
     "text": [
      "14\n"
     ]
    }
   ],
   "source": [
    "initial = 100\n",
    "current = initial\n",
    "year_count = 0\n",
    "while(current > initial/2):\n",
    "    current = current * 0.95\n",
    "    year_count += 1\n",
    "\n",
    "print(year_count) "
   ]
  },
  {
   "cell_type": "code",
   "execution_count": 12,
   "id": "e704914b",
   "metadata": {},
   "outputs": [
    {
     "name": "stdout",
     "output_type": "stream",
     "text": [
      "From Year 2000 to 2002, co2 increase by 3.7299999999999613\n",
      "From Year 2000 to 2003, co2 increase by 6.25\n",
      "From Year 2000 to 2004, co2 increase by 7.96999999999997\n",
      "From Year 2000 to 2005, co2 increase by 10.25\n",
      "From Year 2000 to 2006, co2 increase by 12.349999999999966\n",
      "From Year 2000 to 2007, co2 increase by 14.240000000000009\n",
      "From Year 2000 to 2008, co2 increase by 16.05000000000001\n",
      "From Year 2000 to 2009, co2 increase by 17.879999999999995\n",
      "From Year 2000 to 2010, co2 increase by 20.349999999999966\n",
      "From Year 2000 to 2011, co2 increase by 22.099999999999966\n",
      "From Year 2000 to 2012, co2 increase by 24.30000000000001\n",
      "From Year 2000 to 2013, co2 increase by 26.96999999999997\n",
      "From Year 2000 to 2014, co2 increase by 29.099999999999966\n",
      "From Year 2000 to 2015, co2 increase by 31.279999999999973\n",
      "From Year 2000 to 2016, co2 increase by 34.69\n",
      "From Year 2000 to 2017, co2 increase by 37.0\n",
      "From Year 2000 to 2018, co2 increase by 38.96999999999997\n",
      "From Year 2000 to 2019, co2 increase by 41.889999999999986\n",
      "From Year 2000 to 2020, co2 increase by 44.69\n"
     ]
    }
   ],
   "source": [
    "co2_data = [\n",
    "    (2000, 369.55), (2001, 371.14), (2002, 373.28), \n",
    "    (2003, 375.80), (2004, 377.52), (2005, 379.80), \n",
    "    (2006, 381.90), (2007, 383.79), (2008, 385.60), \n",
    "    (2009, 387.43), (2010, 389.90), (2011, 391.65), \n",
    "    (2012, 393.85), (2013, 396.52), (2014, 398.65),\n",
    "    (2015, 400.83), (2016, 404.24), (2017, 406.55), \n",
    "    (2018, 408.52), (2019, 411.44), (2020, 414.24)\n",
    "]\n",
    "\n",
    "previous = co2_data[0]\n",
    "for current in co2_data: \n",
    "    increase = current[1] - previous[1]\n",
    "    if increase > 3:\n",
    "        print(f\"From Year {previous[0]} to {current[0]}, co2 increase by {increase}\")\n",
    "    previous = current\n"
   ]
  },
  {
   "cell_type": "code",
   "execution_count": null,
   "id": "3c8d267c",
   "metadata": {},
   "outputs": [],
   "source": []
  }
 ],
 "metadata": {
  "kernelspec": {
   "display_name": "Python 3 (ipykernel)",
   "language": "python",
   "name": "python3"
  },
  "language_info": {
   "codemirror_mode": {
    "name": "ipython",
    "version": 3
   },
   "file_extension": ".py",
   "mimetype": "text/x-python",
   "name": "python",
   "nbconvert_exporter": "python",
   "pygments_lexer": "ipython3",
   "version": "3.9.13"
  },
  "toc": {
   "base_numbering": 1,
   "nav_menu": {},
   "number_sections": true,
   "sideBar": true,
   "skip_h1_title": false,
   "title_cell": "Table of Contents",
   "title_sidebar": "Contents",
   "toc_cell": false,
   "toc_position": {},
   "toc_section_display": true,
   "toc_window_display": false
  },
  "vscode": {
   "interpreter": {
    "hash": "31f2aee4e71d21fbe5cf8b01ff0e069b9275f58929596ceb00d14d90e3e16cd6"
   }
  }
 },
 "nbformat": 4,
 "nbformat_minor": 5
}
