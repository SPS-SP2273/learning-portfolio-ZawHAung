{
 "cells": [
  {
   "cell_type": "markdown",
   "id": "123456",
   "metadata": {},
   "source": [
    "<div style=\"text-align:left;font-size:2em\"><span style=\"font-weight:bolder;font-size:1.25em\">SP2273 | Learning Portfolio</span><br><br><span style=\"font-weight:bold;color:darkred\">Loops (Good) Exercises</span></div>"
   ]
  },
  {
   "cell_type": "markdown",
   "id": "fd80b19d",
   "metadata": {},
   "source": [
    "### Exercise 1"
   ]
  },
  {
   "cell_type": "code",
   "execution_count": 19,
   "id": "75897c6e",
   "metadata": {
    "scrolled": true
   },
   "outputs": [
    {
     "name": "stdout",
     "output_type": "stream",
     "text": [
      "[1, 9, 25, 49, 81]\n"
     ]
    }
   ],
   "source": [
    "odd_list = []                    #Create new empty list to store the squares of odd integers from 0 to 9\n",
    "for number in range(10):         #For all values from 0 - 9\n",
    "    if number % 2 == 0:          #If the value returns a remainder of 0, such that it is divisible by 2, i.e., not odd\n",
    "        continue                 #Do not proceed with the following function\n",
    "    odd_list.append(number**2)   #If integer is odd, square the number and append to empty list, repeat until all integers from 0 to 9 checked\n",
    "\n",
    "print(odd_list)                  #Print final list of squares of odd integers from 0 to 9"
   ]
  },
  {
   "cell_type": "markdown",
   "id": "9f8e8f18",
   "metadata": {},
   "source": [
    "### Exercise 2"
   ]
  },
  {
   "cell_type": "code",
   "execution_count": 5,
   "id": "c1dd033d",
   "metadata": {
    "scrolled": true
   },
   "outputs": [
    {
     "name": "stdout",
     "output_type": "stream",
     "text": [
      "[1, 9, 25, 49, 81]\n"
     ]
    }
   ],
   "source": [
    "odd_list_new = [number**2 for number in range(10) if number % 2 == 1]\n",
    "print(odd_list_new)"
   ]
  },
  {
   "cell_type": "markdown",
   "id": "1ed3113e",
   "metadata": {},
   "source": [
    "### Exercise 3"
   ]
  },
  {
   "cell_type": "code",
   "execution_count": 20,
   "id": "13a7a583",
   "metadata": {},
   "outputs": [
    {
     "name": "stdout",
     "output_type": "stream",
     "text": [
      "[1, 9, 25, 49, 81]\n",
      "102 µs ± 0 ns per loop (mean ± std. dev. of 1 run, 1 loop each)\n"
     ]
    }
   ],
   "source": [
    "%%timeit -r 1 -n 1\n",
    "odd_list = []                     \n",
    "for number in range(10):\n",
    "    if number % 2 == 0:           \n",
    "        continue                 \n",
    "    odd_list.append(number**2)   \n",
    "print(odd_list) "
   ]
  },
  {
   "cell_type": "code",
   "execution_count": 21,
   "id": "1faf06d0",
   "metadata": {
    "scrolled": false
   },
   "outputs": [
    {
     "name": "stdout",
     "output_type": "stream",
     "text": [
      "[1, 9, 25, 49, 81]\n",
      "254 µs ± 0 ns per loop (mean ± std. dev. of 1 run, 1 loop each)\n"
     ]
    }
   ],
   "source": [
    "%%timeit -r 1 -n 1\n",
    "odd_list_new = [number**2 for number in range(10) if number % 2 == 1]\n",
    "print(odd_list_new)"
   ]
  },
  {
   "cell_type": "markdown",
   "id": "083314a7",
   "metadata": {},
   "source": [
    "Unable to tell which is faster because it changes each time it runs. Sometimes list comprehension is faster sometimes it is slower."
   ]
  },
  {
   "cell_type": "markdown",
   "id": "16d47806",
   "metadata": {},
   "source": [
    "### Exercise 3 Updated "
   ]
  },
  {
   "cell_type": "code",
   "execution_count": 1,
   "id": "e79137a6",
   "metadata": {},
   "outputs": [
    {
     "name": "stdout",
     "output_type": "stream",
     "text": [
      "1.62 µs ± 7.71 ns per loop (mean ± std. dev. of 7 runs, 1000000 loops each)\n"
     ]
    }
   ],
   "source": [
    "%%timeit \n",
    "odd_list = []                     \n",
    "for number in range(10):\n",
    "    if number % 2 == 0:           \n",
    "        continue                 \n",
    "    odd_list.append(number**2)   "
   ]
  },
  {
   "cell_type": "code",
   "execution_count": 3,
   "id": "386c0550",
   "metadata": {
    "scrolled": true
   },
   "outputs": [
    {
     "name": "stdout",
     "output_type": "stream",
     "text": [
      "1.55 µs ± 5.88 ns per loop (mean ± std. dev. of 7 runs, 1000000 loops each)\n"
     ]
    }
   ],
   "source": [
    "%%timeit \n",
    "odd_list_new = [number**2 for number in range(10) if number % 2 == 1]"
   ]
  },
  {
   "cell_type": "markdown",
   "id": "ab2c6cba",
   "metadata": {},
   "source": [
    "List comprehension is faster!"
   ]
  },
  {
   "cell_type": "markdown",
   "id": "ca6cce65",
   "metadata": {},
   "source": [
    "### Exercise 4"
   ]
  },
  {
   "cell_type": "code",
   "execution_count": 24,
   "id": "2e816215",
   "metadata": {},
   "outputs": [
    {
     "name": "stdout",
     "output_type": "stream",
     "text": [
      "14\n"
     ]
    }
   ],
   "source": [
    "initial = 100         #starting amount of substance\n",
    "current = initial     #at year 0, current = initial\n",
    "year_count = 0\n",
    "while(current >= initial/2):  #to determine point where current is 50% of original\n",
    "    current = current * 0.95  #5% decay each year\n",
    "    year_count += 1\n",
    "\n",
    "print(year_count) "
   ]
  },
  {
   "cell_type": "markdown",
   "id": "265385e4",
   "metadata": {},
   "source": [
    "It will take around 14 years for the sample to reduce to half its original amount."
   ]
  },
  {
   "cell_type": "markdown",
   "id": "7c958507",
   "metadata": {},
   "source": [
    "### Exercise 5"
   ]
  },
  {
   "cell_type": "code",
   "execution_count": 25,
   "id": "3c616985",
   "metadata": {},
   "outputs": [],
   "source": [
    "co2_data = [\n",
    "    (2000, 369.55), (2001, 371.14), (2002, 373.28), \n",
    "    (2003, 375.80), (2004, 377.52), (2005, 379.80), \n",
    "    (2006, 381.90), (2007, 383.79), (2008, 385.60), \n",
    "    (2009, 387.43), (2010, 389.90), (2011, 391.65), \n",
    "    (2012, 393.85), (2013, 396.52), (2014, 398.65),\n",
    "    (2015, 400.83), (2016, 404.24), (2017, 406.55), \n",
    "    (2018, 408.52), (2019, 411.44), (2020, 414.24)\n",
    "]"
   ]
  },
  {
   "cell_type": "code",
   "execution_count": 46,
   "id": "44c249bb",
   "metadata": {},
   "outputs": [
    {
     "name": "stdout",
     "output_type": "stream",
     "text": [
      "From Year 2000 to 2000, co2 increased by 0.0 ppm.\n",
      "From Year 2000 to 2001, co2 increased by 1.589999999999975 ppm.\n",
      "From Year 2000 to 2002, co2 increased by 3.7299999999999613 ppm.\n",
      "From Year 2000 to 2003, co2 increased by 6.25 ppm.\n",
      "From Year 2000 to 2004, co2 increased by 7.96999999999997 ppm.\n",
      "From Year 2000 to 2005, co2 increased by 10.25 ppm.\n",
      "From Year 2000 to 2006, co2 increased by 12.349999999999966 ppm.\n",
      "From Year 2000 to 2007, co2 increased by 14.240000000000009 ppm.\n",
      "From Year 2000 to 2008, co2 increased by 16.05000000000001 ppm.\n",
      "From Year 2000 to 2009, co2 increased by 17.879999999999995 ppm.\n",
      "From Year 2000 to 2010, co2 increased by 20.349999999999966 ppm.\n",
      "From Year 2000 to 2011, co2 increased by 22.099999999999966 ppm.\n",
      "From Year 2000 to 2012, co2 increased by 24.30000000000001 ppm.\n",
      "From Year 2000 to 2013, co2 increased by 26.96999999999997 ppm.\n",
      "From Year 2000 to 2014, co2 increased by 29.099999999999966 ppm.\n",
      "From Year 2000 to 2015, co2 increased by 31.279999999999973 ppm.\n",
      "From Year 2000 to 2016, co2 increased by 34.69 ppm.\n",
      "From Year 2000 to 2017, co2 increased by 37.0 ppm.\n",
      "From Year 2000 to 2018, co2 increased by 38.96999999999997 ppm.\n",
      "From Year 2000 to 2019, co2 increased by 41.889999999999986 ppm.\n",
      "From Year 2000 to 2020, co2 increased by 44.69 ppm.\n"
     ]
    }
   ],
   "source": [
    "previous = co2_data[0]\n",
    "for current in co2_data: \n",
    "    increase = current[1] - previous[1]\n",
    "    print(f\"From Year {previous[0]} to {current[0]}, co2 increased by {increase} ppm.\")\n",
    "    "
   ]
  },
  {
   "cell_type": "code",
   "execution_count": 45,
   "id": "b199cfc6",
   "metadata": {},
   "outputs": [
    {
     "name": "stdout",
     "output_type": "stream",
     "text": [
      "From Year 2000 to 2002, co2 increase by 3.7299999999999613\n",
      "From Year 2000 to 2003, co2 increase by 6.25\n",
      "From Year 2000 to 2004, co2 increase by 7.96999999999997\n",
      "From Year 2000 to 2005, co2 increase by 10.25\n",
      "From Year 2000 to 2006, co2 increase by 12.349999999999966\n",
      "From Year 2000 to 2007, co2 increase by 14.240000000000009\n",
      "From Year 2000 to 2008, co2 increase by 16.05000000000001\n",
      "From Year 2000 to 2009, co2 increase by 17.879999999999995\n",
      "From Year 2000 to 2010, co2 increase by 20.349999999999966\n",
      "From Year 2000 to 2011, co2 increase by 22.099999999999966\n",
      "From Year 2000 to 2012, co2 increase by 24.30000000000001\n",
      "From Year 2000 to 2013, co2 increase by 26.96999999999997\n",
      "From Year 2000 to 2014, co2 increase by 29.099999999999966\n",
      "From Year 2000 to 2015, co2 increase by 31.279999999999973\n",
      "From Year 2000 to 2016, co2 increase by 34.69\n",
      "From Year 2000 to 2017, co2 increase by 37.0\n",
      "From Year 2000 to 2018, co2 increase by 38.96999999999997\n",
      "From Year 2000 to 2019, co2 increase by 41.889999999999986\n",
      "From Year 2000 to 2020, co2 increase by 44.69\n"
     ]
    }
   ],
   "source": [
    "previous = co2_data[0]\n",
    "for current in co2_data: \n",
    "    increase = current[1] - previous[1]\n",
    "    if increase > 3:\n",
    "        print(f\"From Year {previous[0]} to {current[0]}, co2 increase by {increase}\")\n",
    "    \n"
   ]
  },
  {
   "cell_type": "code",
   "execution_count": 47,
   "id": "a61cf527",
   "metadata": {},
   "outputs": [
    {
     "name": "stdout",
     "output_type": "stream",
     "text": [
      "From Year 2015 to 2016, co2 increased by 3.410000000000025 ppm.\n"
     ]
    }
   ],
   "source": [
    "previous = co2_data[0]\n",
    "for current in co2_data: \n",
    "    increase = current[1] - previous[1]\n",
    "    if increase > 3:\n",
    "        print(f\"From Year {previous[0]} to {current[0]}, co2 increased by {increase} ppm.\")\n",
    "    previous = current\n"
   ]
  },
  {
   "cell_type": "markdown",
   "id": "8096faaa",
   "metadata": {},
   "source": [
    "### Exercise 5 Updated"
   ]
  },
  {
   "cell_type": "code",
   "execution_count": 11,
   "id": "2fe2ad2f",
   "metadata": {
    "scrolled": true
   },
   "outputs": [
    {
     "name": "stdout",
     "output_type": "stream",
     "text": [
      "From Year 2000 to 2000, co2 increased by 0.0 ppm.\n",
      "From Year 2000 to 2001, co2 increased by 1.589999999999975 ppm.\n",
      "From Year 2001 to 2002, co2 increased by 2.1399999999999864 ppm.\n",
      "From Year 2002 to 2003, co2 increased by 2.5200000000000387 ppm.\n",
      "From Year 2003 to 2004, co2 increased by 1.7199999999999704 ppm.\n",
      "From Year 2004 to 2005, co2 increased by 2.2800000000000296 ppm.\n",
      "From Year 2005 to 2006, co2 increased by 2.099999999999966 ppm.\n",
      "From Year 2006 to 2007, co2 increased by 1.8900000000000432 ppm.\n",
      "From Year 2007 to 2008, co2 increased by 1.8100000000000023 ppm.\n",
      "From Year 2008 to 2009, co2 increased by 1.829999999999984 ppm.\n",
      "From Year 2009 to 2010, co2 increased by 2.4699999999999704 ppm.\n",
      "From Year 2010 to 2011, co2 increased by 1.75 ppm.\n",
      "From Year 2011 to 2012, co2 increased by 2.2000000000000455 ppm.\n",
      "From Year 2012 to 2013, co2 increased by 2.669999999999959 ppm.\n",
      "From Year 2013 to 2014, co2 increased by 2.1299999999999955 ppm.\n",
      "From Year 2014 to 2015, co2 increased by 2.180000000000007 ppm.\n",
      "From Year 2015 to 2016, co2 increased by 3.410000000000025 ppm.\n",
      "From Year 2016 to 2017, co2 increased by 2.3100000000000023 ppm.\n",
      "From Year 2017 to 2018, co2 increased by 1.9699999999999704 ppm.\n",
      "From Year 2018 to 2019, co2 increased by 2.920000000000016 ppm.\n",
      "From Year 2019 to 2020, co2 increased by 2.8000000000000114 ppm.\n"
     ]
    }
   ],
   "source": [
    "co2_data = [\n",
    "    (2000, 369.55), (2001, 371.14), (2002, 373.28), \n",
    "    (2003, 375.80), (2004, 377.52), (2005, 379.80), \n",
    "    (2006, 381.90), (2007, 383.79), (2008, 385.60), \n",
    "    (2009, 387.43), (2010, 389.90), (2011, 391.65), \n",
    "    (2012, 393.85), (2013, 396.52), (2014, 398.65),\n",
    "    (2015, 400.83), (2016, 404.24), (2017, 406.55), \n",
    "    (2018, 408.52), (2019, 411.44), (2020, 414.24)\n",
    "]\n",
    "\n",
    "previous = co2_data[0]\n",
    "for current in co2_data: \n",
    "    increase = current[1] - previous[1]\n",
    "    print(f\"From Year {previous[0]} to {current[0]}, co2 increased by {increase} ppm.\")\n",
    "    previous = current\n",
    "\n"
   ]
  },
  {
   "cell_type": "code",
   "execution_count": 12,
   "id": "10f6a70a",
   "metadata": {},
   "outputs": [
    {
     "name": "stdout",
     "output_type": "stream",
     "text": [
      "From Year 2015 to 2016, co2 increased by 3.410000000000025 ppm.\n"
     ]
    }
   ],
   "source": [
    "previous = co2_data[0]\n",
    "for current in co2_data: \n",
    "    increase = current[1] - previous[1]\n",
    "    if increase > 3:\n",
    "        print(f\"From Year {previous[0]} to {current[0]}, co2 increased by {increase} ppm.\")\n",
    "    previous = current"
   ]
  },
  {
   "cell_type": "code",
   "execution_count": 14,
   "id": "91127c02",
   "metadata": {},
   "outputs": [
    {
     "name": "stdout",
     "output_type": "stream",
     "text": [
      "From Year 2015 to 2016, co2 increased by 3.41 ppm.\n"
     ]
    }
   ],
   "source": [
    "previous = co2_data[0]\n",
    "for current in co2_data: \n",
    "    increase = current[1] - previous[1]\n",
    "    if increase > 3:\n",
    "        print(f\"From Year {previous[0]} to {current[0]}, co2 increased by {increase:.2f} ppm.\")\n",
    "    previous = current"
   ]
  }
 ],
 "metadata": {
  "kernelspec": {
   "display_name": "Python 3 (ipykernel)",
   "language": "python",
   "name": "python3"
  },
  "language_info": {
   "codemirror_mode": {
    "name": "ipython",
    "version": 3
   },
   "file_extension": ".py",
   "mimetype": "text/x-python",
   "name": "python",
   "nbconvert_exporter": "python",
   "pygments_lexer": "ipython3",
   "version": "3.9.13"
  },
  "toc": {
   "base_numbering": 1,
   "nav_menu": {},
   "number_sections": true,
   "sideBar": true,
   "skip_h1_title": false,
   "title_cell": "Table of Contents",
   "title_sidebar": "Contents",
   "toc_cell": false,
   "toc_position": {},
   "toc_section_display": true,
   "toc_window_display": false
  },
  "vscode": {
   "interpreter": {
    "hash": "31f2aee4e71d21fbe5cf8b01ff0e069b9275f58929596ceb00d14d90e3e16cd6"
   }
  }
 },
 "nbformat": 4,
 "nbformat_minor": 5
}
