{
 "cells": [
  {
   "cell_type": "markdown",
   "id": "123456",
   "metadata": {},
   "source": [
    "<div style=\"text-align:left;font-size:2em\"><span style=\"font-weight:bolder;font-size:1.25em\">SP2273 | Learning Portfolio</span><br><br><span style=\"font-weight:bold;color:darkred\">Loops (Need) Exercises</span></div>"
   ]
  },
  {
   "cell_type": "markdown",
   "id": "a21da8b6",
   "metadata": {},
   "source": [
    "### Exercise 1"
   ]
  },
  {
   "cell_type": "code",
   "execution_count": 24,
   "id": "40bff2a6",
   "metadata": {},
   "outputs": [],
   "source": [
    "temperatures_celsius = [\n",
    "    0, 5, 10, 15, 20, 25,\n",
    "    30, 35, 40, 45, 50\n",
    "]"
   ]
  },
  {
   "cell_type": "code",
   "execution_count": 25,
   "id": "682a0bfc",
   "metadata": {},
   "outputs": [
    {
     "name": "stdout",
     "output_type": "stream",
     "text": [
      "[0, 5, 10, 15, 20, 25, 30, 35, 40, 45, 50]\n",
      "[32.0, 41.0, 50.0, 59.0, 68.0, 77.0, 86.0, 95.0, 104.0, 113.0, 122.0]\n"
     ]
    }
   ],
   "source": [
    "temperatures_celsius = [\n",
    "    0, 5, 10, 15, 20, 25,\n",
    "    30, 35, 40, 45, 50\n",
    "]\n",
    "\n",
    "temperatures_farenheit = []    #Empty list to store new values after conversion\n",
    "\n",
    "for temp in temperatures_celsius:  #For every value in original list\n",
    "    temperatures_farenheit.append((temp*1.8) + 32)  #Append new value into empty list after conversion from Celsius to Fahrenheit \n",
    "    \n",
    "print(temperatures_celsius)             #Final step to print both Celsius and Fahrenheit lists\n",
    "print(temperatures_farenheit)"
   ]
  },
  {
   "cell_type": "markdown",
   "id": "a0bef87c",
   "metadata": {},
   "source": [
    "### Exercise 2"
   ]
  },
  {
   "cell_type": "code",
   "execution_count": 7,
   "id": "69a8d068",
   "metadata": {},
   "outputs": [
    {
     "name": "stdout",
     "output_type": "stream",
     "text": [
      "A1\tA2\tA3\t\n",
      "\n",
      "B1\tB2\tB3\t\n",
      "\n",
      "C1\tC2\tC3\t\n",
      "\n"
     ]
    }
   ],
   "source": [
    "for letter in ['A', 'B', 'C']:\n",
    "    for number in [1, 2, 3]:\n",
    "        print(f'{letter}{number}', end='\\t')\n",
    "    print('\\n')"
   ]
  },
  {
   "cell_type": "code",
   "execution_count": 26,
   "id": "68545286",
   "metadata": {},
   "outputs": [
    {
     "name": "stdout",
     "output_type": "stream",
     "text": [
      "1\t2\t3\t4\t5\t\n",
      "\n",
      "2\t4\t6\t8\t10\t\n",
      "\n",
      "3\t6\t9\t12\t15\t\n",
      "\n",
      "4\t8\t12\t16\t20\t\n",
      "\n",
      "5\t10\t15\t20\t25\t\n",
      "\n"
     ]
    }
   ],
   "source": [
    "for number in [1, 2, 3, 4, 5]:                   #For every value in list           \n",
    "    for multiple in [1,2,3,4,5]:                  \n",
    "        print((number)*(multiple), end='\\t')     #Multiply each value in both list\n",
    "    print('\\n')"
   ]
  },
  {
   "cell_type": "code",
   "execution_count": 28,
   "id": "e6bd2806",
   "metadata": {},
   "outputs": [
    {
     "name": "stdout",
     "output_type": "stream",
     "text": [
      "1: 1\t1: 2\t1: 3\t1: 4\t1: 5\t\n",
      "\n",
      "2: 2\t2: 4\t2: 6\t2: 8\t2: 10\t\n",
      "\n",
      "3: 3\t3: 6\t3: 9\t3: 12\t3: 15\t\n",
      "\n",
      "4: 4\t4: 8\t4: 12\t4: 16\t4: 20\t\n",
      "\n",
      "5: 5\t5: 10\t5: 15\t5: 20\t5: 25\t\n",
      "\n"
     ]
    }
   ],
   "source": [
    "for number in [1, 2, 3, 4, 5]:                   #For every value in list           \n",
    "    for multiple in [1,2,3,4,5]:                  \n",
    "        print(f\"{number}:\",(number)*(multiple), end='\\t')     #Multiply each value in both list\n",
    "    print('\\n')"
   ]
  },
  {
   "cell_type": "code",
   "execution_count": 31,
   "id": "6ce53f2b",
   "metadata": {
    "scrolled": true
   },
   "outputs": [
    {
     "name": "stdout",
     "output_type": "stream",
     "text": [
      "1 : \t1\t2\t3\t4\t5\t\n",
      "\n",
      "2 : \t2\t4\t6\t8\t10\t\n",
      "\n",
      "3 : \t3\t6\t9\t12\t15\t\n",
      "\n",
      "4 : \t4\t8\t12\t16\t20\t\n",
      "\n",
      "5 : \t5\t10\t15\t20\t25\t\n",
      "\n"
     ]
    }
   ],
   "source": [
    "for number in [1, 2, 3, 4, 5]:                   #For every value in list\n",
    "    print(f\"{number} : \\t\", end=\"\")              #Print the column for each value only once\n",
    "    for multiple in [1,2,3,4,5]:                  \n",
    "        print((number)*(multiple), end='\\t')     #Multiply each value in both list\n",
    "    print('\\n')"
   ]
  },
  {
   "cell_type": "markdown",
   "id": "b446e6dc",
   "metadata": {},
   "source": [
    "### Updated solution"
   ]
  },
  {
   "cell_type": "code",
   "execution_count": 4,
   "id": "c5dee2dc",
   "metadata": {},
   "outputs": [
    {
     "name": "stdout",
     "output_type": "stream",
     "text": [
      "1 : \t1\t2\t3\t4\t5\t\n",
      "\n",
      "2 : \t2\t4\t6\t8\t10\t\n",
      "\n",
      "3 : \t3\t6\t9\t12\t15\t\n",
      "\n",
      "4 : \t4\t8\t12\t16\t20\t\n",
      "\n",
      "5 : \t5\t10\t15\t20\t25\t\n",
      "\n"
     ]
    }
   ],
   "source": [
    "for number in range(1,6):                   #For every value in list\n",
    "    print(f\"{number} : \\t\", end=\"\")              #Print the column for each value only once\n",
    "    for multiple in range(1,6):                  \n",
    "        print((number)*(multiple), end='\\t')     #Multiply each value in both list\n",
    "    print('\\n')"
   ]
  }
 ],
 "metadata": {
  "kernelspec": {
   "display_name": "Python 3 (ipykernel)",
   "language": "python",
   "name": "python3"
  },
  "language_info": {
   "codemirror_mode": {
    "name": "ipython",
    "version": 3
   },
   "file_extension": ".py",
   "mimetype": "text/x-python",
   "name": "python",
   "nbconvert_exporter": "python",
   "pygments_lexer": "ipython3",
   "version": "3.9.13"
  },
  "toc": {
   "base_numbering": 1,
   "nav_menu": {},
   "number_sections": true,
   "sideBar": true,
   "skip_h1_title": false,
   "title_cell": "Table of Contents",
   "title_sidebar": "Contents",
   "toc_cell": false,
   "toc_position": {},
   "toc_section_display": true,
   "toc_window_display": false
  },
  "vscode": {
   "interpreter": {
    "hash": "31f2aee4e71d21fbe5cf8b01ff0e069b9275f58929596ceb00d14d90e3e16cd6"
   }
  }
 },
 "nbformat": 4,
 "nbformat_minor": 5
}
