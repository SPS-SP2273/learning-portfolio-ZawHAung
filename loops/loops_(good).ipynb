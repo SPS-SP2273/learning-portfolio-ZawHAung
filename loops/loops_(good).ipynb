{
 "cells": [
  {
   "cell_type": "markdown",
   "id": "123456",
   "metadata": {},
   "source": [
    "<div style=\"text-align:left;font-size:2em\"><span style=\"font-weight:bolder;font-size:1.25em\">SP2273 | Learning Portfolio</span><br><br><span style=\"font-weight:bold;color:darkred\">Loops (Good)</span></div>"
   ]
  },
  {
   "cell_type": "markdown",
   "id": "541a8e6b",
   "metadata": {},
   "source": [
    "# What to expect in this chapter"
   ]
  },
  {
   "cell_type": "markdown",
   "id": "7eeb6200",
   "metadata": {},
   "source": [
    "# 1 Interrupting the flow"
   ]
  },
  {
   "cell_type": "code",
   "execution_count": 2,
   "id": "e58bfa3f",
   "metadata": {},
   "outputs": [
    {
     "name": "stdout",
     "output_type": "stream",
     "text": [
      "0 1\n",
      "1 10\n",
      "2 100\n",
      "3 1000\n",
      "4 10000\n"
     ]
    }
   ],
   "source": [
    "for power in range(6):\n",
    "    number = 10**power\n",
    "    if number > 10000:\n",
    "        break\n",
    "    print(power,number)"
   ]
  },
  {
   "cell_type": "code",
   "execution_count": 1,
   "id": "dba4540b",
   "metadata": {},
   "outputs": [
    {
     "name": "stdout",
     "output_type": "stream",
     "text": [
      "0 1\n",
      "1 10\n",
      "2 100\n",
      "3 1000\n",
      "4 10000\n"
     ]
    }
   ],
   "source": [
    "power = 0\n",
    "while power < 6:            #using while loop\n",
    "    number = 10**power\n",
    "    if number > 10000:\n",
    "        break\n",
    "    print(power, number)\n",
    "    power += 1             #to increase since not using range()\n",
    "              "
   ]
  },
  {
   "cell_type": "code",
   "execution_count": 2,
   "id": "16c9b70a",
   "metadata": {},
   "outputs": [
    {
     "name": "stdout",
     "output_type": "stream",
     "text": [
      "0 1\n",
      "1 10\n",
      "2 100\n",
      "4 10000\n",
      "5 100000\n"
     ]
    }
   ],
   "source": [
    "for power in range(6):\n",
    "    if power == 3:\n",
    "        continue   #Don't proceed further in current loop if i == 3\n",
    "    number = 10**power\n",
    "    print (power, number)"
   ]
  },
  {
   "cell_type": "code",
   "execution_count": null,
   "id": "edffde2f",
   "metadata": {},
   "outputs": [
    {
     "name": "stdout",
     "output_type": "stream",
     "text": [
      "0 1\n",
      "1 10\n",
      "2 100\n"
     ]
    }
   ],
   "source": [
    "power = 0\n",
    "while power < 6:\n",
    "    if power == 3:\n",
    "        continue            #Seems to end here and not continue after i == 3\n",
    "    number = 10**power\n",
    "    print(power, number)\n",
    "    power += 1"
   ]
  },
  {
   "cell_type": "code",
   "execution_count": 2,
   "id": "32ba4e69",
   "metadata": {},
   "outputs": [
    {
     "name": "stdout",
     "output_type": "stream",
     "text": [
      "0 1\n",
      "1 10\n",
      "2 100\n",
      "4 10000\n",
      "5 100000\n"
     ]
    }
   ],
   "source": [
    "power = 0\n",
    "while power < 6:\n",
    "    if power == 3:\n",
    "        power += 1    #Added to allow for the code to continue running\n",
    "        continue\n",
    "    number = 10**power\n",
    "    print(power, number)\n",
    "    power += 1"
   ]
  },
  {
   "cell_type": "code",
   "execution_count": 3,
   "id": "a279590c",
   "metadata": {},
   "outputs": [
    {
     "name": "stdout",
     "output_type": "stream",
     "text": [
      "1\n",
      "3\n",
      "5\n",
      "7\n",
      "9\n"
     ]
    }
   ],
   "source": [
    "for number in range(10):\n",
    "    if number % 2 == 0:    #i.e. odd numbers only\n",
    "        continue\n",
    "    print(number)"
   ]
  },
  {
   "cell_type": "code",
   "execution_count": 5,
   "id": "be40be49",
   "metadata": {},
   "outputs": [
    {
     "name": "stdout",
     "output_type": "stream",
     "text": [
      "1\n",
      "3\n",
      "5\n",
      "7\n",
      "9\n"
     ]
    }
   ],
   "source": [
    "number = 0\n",
    "\n",
    "while number < 10:\n",
    "    if number % 2 == 0:\n",
    "        number += 1\n",
    "        continue\n",
    "    print(number)\n",
    "    number += 1"
   ]
  },
  {
   "cell_type": "code",
   "execution_count": 6,
   "id": "40c1ca70",
   "metadata": {},
   "outputs": [
    {
     "name": "stdout",
     "output_type": "stream",
     "text": [
      "0\n",
      "1\n",
      "2\n",
      "3\n",
      "4\n"
     ]
    }
   ],
   "source": [
    "number = 0\n",
    "\n",
    "while True:\n",
    "    print(number)\n",
    "    number += 1\n",
    "    if number > 4:\n",
    "        break"
   ]
  },
  {
   "cell_type": "markdown",
   "id": "4c78f05c",
   "metadata": {},
   "source": [
    "# 2 List comprehension!"
   ]
  },
  {
   "cell_type": "markdown",
   "id": "11279778",
   "metadata": {},
   "source": [
    "## 2.1 Basic syntax"
   ]
  },
  {
   "cell_type": "code",
   "execution_count": 8,
   "id": "7d55c546",
   "metadata": {},
   "outputs": [
    {
     "data": {
      "text/plain": [
       "[0, 1, 2, 3, 4, 5, 6, 7, 8, 9]"
      ]
     },
     "execution_count": 8,
     "metadata": {},
     "output_type": "execute_result"
    }
   ],
   "source": [
    "[number for number in range(10)]"
   ]
  },
  {
   "cell_type": "code",
   "execution_count": 9,
   "id": "94959354",
   "metadata": {},
   "outputs": [
    {
     "data": {
      "text/plain": [
       "[0, 1, 8, 27, 64]"
      ]
     },
     "execution_count": 9,
     "metadata": {},
     "output_type": "execute_result"
    }
   ],
   "source": [
    "[number**3 for number in range(5)]"
   ]
  },
  {
   "cell_type": "markdown",
   "id": "b1bc3892",
   "metadata": {},
   "source": [
    "## 2.2 List comprehension with conditions"
   ]
  },
  {
   "cell_type": "code",
   "execution_count": 10,
   "id": "237bbb24",
   "metadata": {},
   "outputs": [
    {
     "data": {
      "text/plain": [
       "[1, 3, 5, 7, 9]"
      ]
     },
     "execution_count": 10,
     "metadata": {},
     "output_type": "execute_result"
    }
   ],
   "source": [
    "[number for number in range(10) if number % 2 == 1] #Only want odd numbers"
   ]
  },
  {
   "cell_type": "code",
   "execution_count": 11,
   "id": "fc6df26e",
   "metadata": {},
   "outputs": [
    {
     "data": {
      "text/plain": [
       "[0, 2, 4, 6, 8]"
      ]
     },
     "execution_count": 11,
     "metadata": {},
     "output_type": "execute_result"
    }
   ],
   "source": [
    "[number for number in range(10) if number % 2 == 0] #Only even numbers"
   ]
  },
  {
   "cell_type": "markdown",
   "id": "d64a54a7",
   "metadata": {},
   "source": [
    "# 3 Other useful stuff"
   ]
  },
  {
   "cell_type": "markdown",
   "id": "18cde5ce",
   "metadata": {},
   "source": [
    "## 3.1 for with unpacking"
   ]
  },
  {
   "cell_type": "code",
   "execution_count": 12,
   "id": "bab223ad",
   "metadata": {},
   "outputs": [
    {
     "name": "stdout",
     "output_type": "stream",
     "text": [
      "x = 1, y = 2, z = 3\n"
     ]
    }
   ],
   "source": [
    "x, y, z = [1, 2, 3]\n",
    "print(f'x = {x}, y = {y}, z = {z}')"
   ]
  },
  {
   "cell_type": "code",
   "execution_count": 13,
   "id": "70a1760e",
   "metadata": {},
   "outputs": [
    {
     "name": "stdout",
     "output_type": "stream",
     "text": [
      "Marvel's Black Widow is Natasha Romanoff!\n",
      "Marvel's Iron Man is Tony Stark!\n",
      "Marvel's Doctor Strange is Stephen Strange!\n"
     ]
    }
   ],
   "source": [
    "py_superhero_info = [['Natasha Romanoff', 'Black Widow'],\n",
    "                     ['Tony Stark', 'Iron Man'],\n",
    "                     ['Stephen Strange', 'Doctor Strange']]\n",
    "\n",
    "for real_name, super_name in py_superhero_info:\n",
    "    print(f\"Marvel's {super_name} is {real_name}!\")"
   ]
  },
  {
   "cell_type": "markdown",
   "id": "f150bc1c",
   "metadata": {},
   "source": [
    "## 3.2 for with zip()"
   ]
  },
  {
   "cell_type": "code",
   "execution_count": 16,
   "id": "ccfc9425",
   "metadata": {},
   "outputs": [
    {
     "name": "stdout",
     "output_type": "stream",
     "text": [
      "USA is in North America.\n",
      "China is in Asia.\n",
      "Egypt is in Africa.\n"
     ]
    }
   ],
   "source": [
    "countries = [\"USA\", \"China\", \"Egypt\"]\n",
    "continents = [\"North America\", \"Asia\", \"Africa\"]\n",
    "\n",
    "for country, continent in zip(countries, continents):\n",
    "    print(f'{country} is in {continent}.')"
   ]
  },
  {
   "cell_type": "code",
   "execution_count": 19,
   "id": "c5bba292",
   "metadata": {},
   "outputs": [
    {
     "name": "stdout",
     "output_type": "stream",
     "text": [
      "USA is in North America. It's capital is Washington D.C.\n",
      "China is in Asia. It's capital is Beijing.\n",
      "Egypt is in Africa. It's capital is Cairo.\n"
     ]
    }
   ],
   "source": [
    "countries = [\"USA\", \"China\", \"Egypt\"]\n",
    "continents = [\"North America\", \"Asia\", \"Africa\"]\n",
    "capitals = [\"Washington D.C\", \"Beijing\", \"Cairo\"]\n",
    "\n",
    "for country, continent, capital in zip(countries, continents, capitals):\n",
    "    print(f\"{country} is in {continent}. It's capital is {capital}.\")"
   ]
  },
  {
   "cell_type": "markdown",
   "id": "45d46469",
   "metadata": {},
   "source": [
    "## 3.3 for with dictionaries"
   ]
  },
  {
   "cell_type": "code",
   "execution_count": 24,
   "id": "26c825b2",
   "metadata": {},
   "outputs": [
    {
     "name": "stdout",
     "output_type": "stream",
     "text": [
      "Lee Hsien Loong is the leader of Singapore.\n",
      "Anwar Ibrahim is the leader of Malaysia.\n",
      "Joko Widodo is the leader of Indonesia.\n"
     ]
    }
   ],
   "source": [
    "country_info = {\"Singapore\": \"Lee Hsien Loong\",\n",
    "                \"Malaysia\": \"Anwar Ibrahim\",\n",
    "                \"Indonesia\": \"Joko Widodo\"}\n",
    "\n",
    "for country, leader in country_info.items():\n",
    "    print(f\"{leader} is the leader of {country}.\")"
   ]
  },
  {
   "cell_type": "code",
   "execution_count": 26,
   "id": "66b387d9",
   "metadata": {},
   "outputs": [
    {
     "name": "stdout",
     "output_type": "stream",
     "text": [
      "Lee Hsien Loong is the leader of Singapore.\n",
      "Anwar Ibrahim is the leader of Malaysia.\n",
      "Joko Widodo is the leader of Indonesia.\n"
     ]
    }
   ],
   "source": [
    "for key in country_info.keys():\n",
    "    value = country_info[key]\n",
    "    print(f\"{value} is the leader of {key}.\")"
   ]
  },
  {
   "cell_type": "markdown",
   "id": "f21edd36",
   "metadata": {},
   "source": [
    "## Footnotes"
   ]
  }
 ],
 "metadata": {
  "kernelspec": {
   "display_name": "Python 3 (ipykernel)",
   "language": "python",
   "name": "python3"
  },
  "language_info": {
   "codemirror_mode": {
    "name": "ipython",
    "version": 3
   },
   "file_extension": ".py",
   "mimetype": "text/x-python",
   "name": "python",
   "nbconvert_exporter": "python",
   "pygments_lexer": "ipython3",
   "version": "3.9.13"
  },
  "toc": {
   "base_numbering": 1,
   "nav_menu": {},
   "number_sections": true,
   "sideBar": true,
   "skip_h1_title": false,
   "title_cell": "Table of Contents",
   "title_sidebar": "Contents",
   "toc_cell": false,
   "toc_position": {},
   "toc_section_display": true,
   "toc_window_display": false
  },
  "vscode": {
   "interpreter": {
    "hash": "31f2aee4e71d21fbe5cf8b01ff0e069b9275f58929596ceb00d14d90e3e16cd6"
   }
  }
 },
 "nbformat": 4,
 "nbformat_minor": 5
}
