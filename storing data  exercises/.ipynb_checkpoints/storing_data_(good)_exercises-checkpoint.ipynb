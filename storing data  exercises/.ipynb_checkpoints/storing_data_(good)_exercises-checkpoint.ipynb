{
 "cells": [
  {
   "cell_type": "markdown",
   "id": "123456",
   "metadata": {},
   "source": [
    "<div style=\"text-align:left;font-size:2em\"><span style=\"font-weight:bolder;font-size:1.25em\">SP2273 | Learning Portfolio</span><br><br><span style=\"font-weight:bold;color:darkred\">Storing Data (Good) Exercises</span></div>"
   ]
  },
  {
   "cell_type": "markdown",
   "id": "0a0126e2",
   "metadata": {},
   "source": [
    "### Exercise 1"
   ]
  },
  {
   "cell_type": "markdown",
   "id": "dc08e53d",
   "metadata": {},
   "source": [
    "| **Term**   |                                                           **Brief description**                                                          |\n",
    "|:-----------|:----------------------------------------------------------------------------------------------------------------------------------------:|\n",
    "| Subsetting |                                              Selecting a subset of data points from the list                                             |\n",
    "| Indexing   |                                                Selecting a single data point from the list                                               |\n",
    "| Slicing    |                                              Selecting a range of data points from the list                                              |\n",
    "| Masking    | _A form of subsetting by defining the rules in which the data is selected, showing only the data points that fulfill the masking criteria_ |"
   ]
  },
  {
   "cell_type": "markdown",
   "id": "24855c2e",
   "metadata": {},
   "source": [
    "### Exercise 2"
   ]
  },
  {
   "cell_type": "code",
   "execution_count": 3,
   "id": "d19bc8df",
   "metadata": {},
   "outputs": [],
   "source": [
    "import numpy as np"
   ]
  },
  {
   "cell_type": "code",
   "execution_count": 4,
   "id": "7fa5a668",
   "metadata": {},
   "outputs": [],
   "source": [
    "np_array_2d = np.array([[1, \"A\"], [3, \"C\"], [2, \"B\"], [4, \"D\"],\n",
    "                        [5, \"E\"], [7, \"G\"], [6, \"F\"], [8, \"H\"],\n",
    "                        [10, \"J\"], [9, \"I\"]])"
   ]
  },
  {
   "cell_type": "code",
   "execution_count": 6,
   "id": "e6ce8fea",
   "metadata": {},
   "outputs": [
    {
     "data": {
      "text/plain": [
       "array(['1', '3', '2', '4', '5', '7', '6', '8', '10', '9'], dtype='<U11')"
      ]
     },
     "execution_count": 6,
     "metadata": {},
     "output_type": "execute_result"
    }
   ],
   "source": [
    "np_array_1d = np_array_2d[:,0]\n",
    "np_array_1d"
   ]
  },
  {
   "cell_type": "code",
   "execution_count": 8,
   "id": "fb2ad4e2",
   "metadata": {},
   "outputs": [
    {
     "data": {
      "text/plain": [
       "array([ 1,  3,  2,  4,  5,  7,  6,  8, 10,  9], dtype=int32)"
      ]
     },
     "execution_count": 8,
     "metadata": {},
     "output_type": "execute_result"
    }
   ],
   "source": [
    "np_array_integer = np_array_1d.astype('i')  #astype changes data type of existing array from Unicode to integer\n",
    "np_array_integer   #Reference taken from https://www.w3schools.com/python/numpy/numpy_data_types.asp#:~:text=The%20astype()%20function%20creates,float%20and%20int%20for%20integer."
   ]
  },
  {
   "cell_type": "code",
   "execution_count": 10,
   "id": "f884f696",
   "metadata": {},
   "outputs": [
    {
     "data": {
      "text/plain": [
       "array([1, 1, 0, 0, 1, 1, 0, 0, 0, 1], dtype=int32)"
      ]
     },
     "execution_count": 10,
     "metadata": {},
     "output_type": "execute_result"
    }
   ],
   "source": [
    "np_array_final = np_array_integer%2    #Finding remainder when divided by 2, odd number will have remainder of 1\n",
    "np_array_final"
   ]
  },
  {
   "cell_type": "code",
   "execution_count": 12,
   "id": "0f782ab6",
   "metadata": {
    "scrolled": true
   },
   "outputs": [
    {
     "data": {
      "text/plain": [
       "array([ True,  True, False, False,  True,  True, False, False, False,\n",
       "        True])"
      ]
     },
     "execution_count": 12,
     "metadata": {},
     "output_type": "execute_result"
    }
   ],
   "source": [
    "masking = np_array_final == 1   #Creating masking rule to only accept True value = 1\n",
    "masking"
   ]
  },
  {
   "cell_type": "code",
   "execution_count": 14,
   "id": "0e18ce2e",
   "metadata": {},
   "outputs": [
    {
     "data": {
      "text/plain": [
       "array(['A', 'C', 'E', 'G', 'I'], dtype='<U11')"
      ]
     },
     "execution_count": 14,
     "metadata": {},
     "output_type": "execute_result"
    }
   ],
   "source": [
    "np_array_2d[(masking),1]   #Use masking rule on original array to identify second element using '1'"
   ]
  }
 ],
 "metadata": {
  "kernelspec": {
   "display_name": "Python 3 (ipykernel)",
   "language": "python",
   "name": "python3"
  },
  "language_info": {
   "codemirror_mode": {
    "name": "ipython",
    "version": 3
   },
   "file_extension": ".py",
   "mimetype": "text/x-python",
   "name": "python",
   "nbconvert_exporter": "python",
   "pygments_lexer": "ipython3",
   "version": "3.9.13"
  },
  "toc": {
   "base_numbering": 1,
   "nav_menu": {},
   "number_sections": true,
   "sideBar": true,
   "skip_h1_title": false,
   "title_cell": "Table of Contents",
   "title_sidebar": "Contents",
   "toc_cell": false,
   "toc_position": {},
   "toc_section_display": true,
   "toc_window_display": false
  },
  "vscode": {
   "interpreter": {
    "hash": "31f2aee4e71d21fbe5cf8b01ff0e069b9275f58929596ceb00d14d90e3e16cd6"
   }
  }
 },
 "nbformat": 4,
 "nbformat_minor": 5
}
