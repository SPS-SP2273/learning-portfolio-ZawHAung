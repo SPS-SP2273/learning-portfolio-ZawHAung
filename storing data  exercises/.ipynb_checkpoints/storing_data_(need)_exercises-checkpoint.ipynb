{
 "cells": [
  {
   "cell_type": "markdown",
   "id": "123456",
   "metadata": {},
   "source": [
    "<div style=\"text-align:left;font-size:2em\"><span style=\"font-weight:bolder;font-size:1.25em\">SP2273 | Learning Portfolio</span><br><br><span style=\"font-weight:bold;color:darkred\">Storing Data (Need) Exercises</span></div>"
   ]
  },
  {
   "cell_type": "markdown",
   "id": "f4a69550",
   "metadata": {},
   "source": [
    "### Exercise 1"
   ]
  },
  {
   "cell_type": "markdown",
   "id": "61caad7f",
   "metadata": {},
   "source": [
    "1. What are the two similarities between lists and arrays?\n",
    "\n",
    "    1. The order in which the value appears is important for both lists and arrays.\n",
    "    \n",
    "    2. They can be used to store data\n",
    "\n",
    "\n",
    "2. What are the two differences between lists and arrays?\n",
    "\n",
    "    1. Mathematical functions do not work on lists. Using the + function on lists results in the two lists being joined together while using the + function on arrays adds the values in the arrays. Similarly, using the square function on lists will result in an error, while using the square function on arrays results in the individual values in the arrays being squared.\n",
    "    \n",
    "    2. Lists can accept all data types within a single list, whereas arrays can only accept one data type per array.\n",
    "    \n",
    "    \n",
    "3. What is a dictionary?\n",
    "   \n",
    "   A dictionary is a place to store data in a key-value pair, where each individual value is assigned a key to access the value."
   ]
  },
  {
   "cell_type": "markdown",
   "id": "3dd6e329",
   "metadata": {},
   "source": [
    "### Exercise 2"
   ]
  },
  {
   "cell_type": "code",
   "execution_count": 1,
   "id": "8c30cf2c",
   "metadata": {},
   "outputs": [
    {
     "name": "stdout",
     "output_type": "stream",
     "text": [
      "a1\n",
      "c3\n",
      "e5\n",
      "g7\n",
      "i9\n"
     ]
    }
   ],
   "source": [
    "py_list = [\"a1\", \"b2\", \"c3\", \"d4\", \"e5\", \"f6\", \"g7\", \"h8\", \"i9\", \"j10\"]\n",
    "print(py_list[0])   # Prints 'a1'\n",
    "print(py_list[2])   # Prints 'c3'\n",
    "print(py_list[4])   # Prints 'e5'\n",
    "print(py_list[6])   # Prints 'g7'\n",
    "print(py_list[8])   # Prints 'i9'"
   ]
  },
  {
   "cell_type": "markdown",
   "id": "caf9b4f9",
   "metadata": {},
   "source": [
    "### Exercise 3 "
   ]
  },
  {
   "cell_type": "code",
   "execution_count": 2,
   "id": "0b677f38",
   "metadata": {},
   "outputs": [],
   "source": [
    "elements = ['Hydrogen',\n",
    "            'Helium', 'Lithium',\n",
    "            'Beryllium', 'Boron', 'Carbon',\n",
    "            'Nitrogen', 'Oxygen',\n",
    "            'Fluorine',\n",
    "            'Neon']"
   ]
  },
  {
   "cell_type": "code",
   "execution_count": 4,
   "id": "ae7c4e90",
   "metadata": {},
   "outputs": [
    {
     "name": "stdout",
     "output_type": "stream",
     "text": [
      "Boron\n"
     ]
    }
   ],
   "source": [
    "print(elements[4])    #Element at index 4 is Boron, since indexing starts from 0 = Hydrogen"
   ]
  },
  {
   "cell_type": "code",
   "execution_count": 8,
   "id": "071374b6",
   "metadata": {},
   "outputs": [
    {
     "name": "stdout",
     "output_type": "stream",
     "text": [
      "Boron\n"
     ]
    }
   ],
   "source": [
    "print(elements[-6])  #Reverse indexing, since -1 is the last element and there are 10 elements, -6 will print out the element at index 4"
   ]
  },
  {
   "cell_type": "markdown",
   "id": "d1980d1e",
   "metadata": {},
   "source": [
    "### Exercise 4"
   ]
  },
  {
   "cell_type": "code",
   "execution_count": 10,
   "id": "69b65660",
   "metadata": {},
   "outputs": [],
   "source": [
    "import numpy as np"
   ]
  },
  {
   "cell_type": "code",
   "execution_count": 9,
   "id": "02d5d04c",
   "metadata": {},
   "outputs": [],
   "source": [
    "numbers=[45, 60, 1, 30, 96, 1, 96, 57, 16, 1,\n",
    "        99, 62, 86, 43, 42, 60, 59, 1, 1, 35,\n",
    "        83, 47, 34, 28, 68, 23, 22, 92, 1, 79,\n",
    "        1, 29, 94, 72, 46, 47, 1, 74, 32, 20,\n",
    "        8, 37, 35, 1, 89, 29, 86, 19, 43, 61]                  "
   ]
  },
  {
   "cell_type": "code",
   "execution_count": 11,
   "id": "767d3b66",
   "metadata": {},
   "outputs": [],
   "source": [
    "nparray = np.array(numbers)  #Creating a numpy array"
   ]
  },
  {
   "cell_type": "code",
   "execution_count": 15,
   "id": "862bed8c",
   "metadata": {
    "scrolled": true
   },
   "outputs": [
    {
     "data": {
      "text/plain": [
       "array([False, False,  True, False, False,  True, False, False, False,\n",
       "        True, False, False, False, False, False, False, False,  True,\n",
       "        True, False, False, False, False, False, False, False, False,\n",
       "       False,  True, False,  True, False, False, False, False, False,\n",
       "        True, False, False, False, False, False, False,  True, False,\n",
       "       False, False, False, False, False])"
      ]
     },
     "execution_count": 15,
     "metadata": {},
     "output_type": "execute_result"
    }
   ],
   "source": [
    "nparray == 1  #To find which value in the array is equal to 1"
   ]
  },
  {
   "cell_type": "code",
   "execution_count": 17,
   "id": "04ac5c73",
   "metadata": {},
   "outputs": [
    {
     "data": {
      "text/plain": [
       "9"
      ]
     },
     "execution_count": 17,
     "metadata": {},
     "output_type": "execute_result"
    }
   ],
   "source": [
    "sum(nparray == 1)       #There are 9 instances of '1' in the list"
   ]
  },
  {
   "cell_type": "code",
   "execution_count": 25,
   "id": "817b62df",
   "metadata": {
    "scrolled": true
   },
   "outputs": [
    {
     "data": {
      "text/plain": [
       "(array([ 1,  8, 16, 19, 20, 22, 23, 28, 29, 30, 32, 34, 35, 37, 42, 43, 45,\n",
       "        46, 47, 57, 59, 60, 61, 62, 68, 72, 74, 79, 83, 86, 89, 92, 94, 96,\n",
       "        99]),\n",
       " array([9, 1, 1, 1, 1, 1, 1, 1, 2, 1, 1, 1, 2, 1, 1, 2, 1, 1, 2, 1, 1, 2,\n",
       "        1, 1, 1, 1, 1, 1, 1, 2, 1, 1, 1, 2, 1], dtype=int64))"
      ]
     },
     "execution_count": 25,
     "metadata": {},
     "output_type": "execute_result"
    }
   ],
   "source": [
    "np.unique(nparray, return_counts=True)    #Checked using formula found by Googling \"How to check frequency in Python list\", ref: https://www.askpython.com/python/list/count-frequency-unordered-list"
   ]
  }
 ],
 "metadata": {
  "kernelspec": {
   "display_name": "Python 3 (ipykernel)",
   "language": "python",
   "name": "python3"
  },
  "language_info": {
   "codemirror_mode": {
    "name": "ipython",
    "version": 3
   },
   "file_extension": ".py",
   "mimetype": "text/x-python",
   "name": "python",
   "nbconvert_exporter": "python",
   "pygments_lexer": "ipython3",
   "version": "3.9.13"
  },
  "toc": {
   "base_numbering": 1,
   "nav_menu": {},
   "number_sections": true,
   "sideBar": true,
   "skip_h1_title": false,
   "title_cell": "Table of Contents",
   "title_sidebar": "Contents",
   "toc_cell": false,
   "toc_position": {},
   "toc_section_display": true,
   "toc_window_display": false
  },
  "vscode": {
   "interpreter": {
    "hash": "31f2aee4e71d21fbe5cf8b01ff0e069b9275f58929596ceb00d14d90e3e16cd6"
   }
  }
 },
 "nbformat": 4,
 "nbformat_minor": 5
}
