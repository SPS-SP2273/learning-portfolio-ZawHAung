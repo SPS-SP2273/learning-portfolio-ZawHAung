{
 "cells": [
  {
   "cell_type": "markdown",
   "id": "123456",
   "metadata": {},
   "source": [
    "<div style=\"text-align:left;font-size:2em\"><span style=\"font-weight:bolder;font-size:1.25em\">SP2273 | Learning Portfolio</span><br><br><span style=\"font-weight:bold;color:darkred\">Storing Data (Need)</span></div>"
   ]
  },
  {
   "cell_type": "markdown",
   "id": "72ac0594",
   "metadata": {},
   "source": [
    "# What to expect in this chapter"
   ]
  },
  {
   "cell_type": "code",
   "execution_count": 1,
   "id": "545845be",
   "metadata": {},
   "outputs": [],
   "source": [
    "import numpy as np"
   ]
  },
  {
   "cell_type": "markdown",
   "id": "08b31640",
   "metadata": {},
   "source": [
    "# 1 Lists, Arrays & Dictionaries"
   ]
  },
  {
   "cell_type": "markdown",
   "id": "138829d1",
   "metadata": {},
   "source": [
    "## 1.1 Let’s compare"
   ]
  },
  {
   "cell_type": "code",
   "execution_count": 2,
   "id": "f3f6a3d6",
   "metadata": {},
   "outputs": [],
   "source": [
    "py_super_names = [\"Black Widow\", \"Iron Man\", \"Doctor Strange\"]\n",
    "py_real_names = [\"Natasha Romanoff\", \"Tony Stark\", \"Stephen Strange\"]"
   ]
  },
  {
   "cell_type": "code",
   "execution_count": 3,
   "id": "0733793f",
   "metadata": {},
   "outputs": [],
   "source": [
    "np_super_names = np.array([\"Black Widow\", \"Iron Man\", \"Doctor Strange\"])\n",
    "np_real_names = np.array([\"Natasha Romanoff\", \"Tony Stark\", \"Stephen Strange\"])"
   ]
  },
  {
   "cell_type": "code",
   "execution_count": 4,
   "id": "a6d78288",
   "metadata": {},
   "outputs": [],
   "source": [
    "superhero_info = {\n",
    "    \"Natasha Romanoff\": \"Black Widow\",\n",
    "    \"Tony Stark\": \"Iron Man\",\n",
    "    \"Stephen Strange\": \"Doctor Strange\"\n",
    "}"
   ]
  },
  {
   "cell_type": "markdown",
   "id": "88c88858",
   "metadata": {},
   "source": [
    "## 1.2 Accessing data from a list (or array)"
   ]
  },
  {
   "cell_type": "code",
   "execution_count": 5,
   "id": "90388593",
   "metadata": {},
   "outputs": [
    {
     "data": {
      "text/plain": [
       "'Tony Stark'"
      ]
     },
     "execution_count": 5,
     "metadata": {},
     "output_type": "execute_result"
    }
   ],
   "source": [
    "py_real_names[1]"
   ]
  },
  {
   "cell_type": "code",
   "execution_count": 6,
   "id": "45bf274b",
   "metadata": {
    "scrolled": true
   },
   "outputs": [
    {
     "data": {
      "text/plain": [
       "'Doctor Strange'"
      ]
     },
     "execution_count": 6,
     "metadata": {},
     "output_type": "execute_result"
    }
   ],
   "source": [
    "py_super_names[2]"
   ]
  },
  {
   "cell_type": "code",
   "execution_count": 7,
   "id": "b98f839c",
   "metadata": {
    "scrolled": true
   },
   "outputs": [
    {
     "data": {
      "text/plain": [
       "'Iron Man'"
      ]
     },
     "execution_count": 7,
     "metadata": {},
     "output_type": "execute_result"
    }
   ],
   "source": [
    "np_super_names[1]"
   ]
  },
  {
   "cell_type": "code",
   "execution_count": 8,
   "id": "58696f20",
   "metadata": {},
   "outputs": [
    {
     "data": {
      "text/plain": [
       "'Doctor Strange'"
      ]
     },
     "execution_count": 8,
     "metadata": {},
     "output_type": "execute_result"
    }
   ],
   "source": [
    "py_super_names[-1]"
   ]
  },
  {
   "cell_type": "code",
   "execution_count": 9,
   "id": "9b8cbef2",
   "metadata": {
    "scrolled": true
   },
   "outputs": [
    {
     "data": {
      "text/plain": [
       "'Doctor Strange'"
      ]
     },
     "execution_count": 9,
     "metadata": {},
     "output_type": "execute_result"
    }
   ],
   "source": [
    "np_super_names[-1]"
   ]
  },
  {
   "cell_type": "markdown",
   "id": "7943ad95",
   "metadata": {},
   "source": [
    "## 1.3 Accessing data from a dictionary"
   ]
  },
  {
   "cell_type": "code",
   "execution_count": 10,
   "id": "1a6e27f5",
   "metadata": {
    "scrolled": true
   },
   "outputs": [
    {
     "data": {
      "text/plain": [
       "'Iron Man'"
      ]
     },
     "execution_count": 10,
     "metadata": {},
     "output_type": "execute_result"
    }
   ],
   "source": [
    "superhero_info[\"Tony Stark\"]"
   ]
  },
  {
   "cell_type": "code",
   "execution_count": 11,
   "id": "05747d28",
   "metadata": {
    "scrolled": true
   },
   "outputs": [
    {
     "data": {
      "text/plain": [
       "dict_keys(['Natasha Romanoff', 'Tony Stark', 'Stephen Strange'])"
      ]
     },
     "execution_count": 11,
     "metadata": {},
     "output_type": "execute_result"
    }
   ],
   "source": [
    "superhero_info.keys()"
   ]
  },
  {
   "cell_type": "code",
   "execution_count": 12,
   "id": "b2d22a47",
   "metadata": {},
   "outputs": [
    {
     "data": {
      "text/plain": [
       "dict_values(['Black Widow', 'Iron Man', 'Doctor Strange'])"
      ]
     },
     "execution_count": 12,
     "metadata": {},
     "output_type": "execute_result"
    }
   ],
   "source": [
    "superhero_info.values()"
   ]
  },
  {
   "cell_type": "markdown",
   "id": "85705c9b",
   "metadata": {},
   "source": [
    "## 1.4 Higher dimensional lists"
   ]
  },
  {
   "cell_type": "code",
   "execution_count": 13,
   "id": "4e74b545",
   "metadata": {},
   "outputs": [],
   "source": [
    "py_superhero_info = [['Natasha Romanoff', 'Black Widow'],\n",
    "                     ['Tony Stark', 'Iron Man'],\n",
    "                     ['Stephen Strange', 'Doctor Strange']]"
   ]
  },
  {
   "cell_type": "markdown",
   "id": "b6f40f1f",
   "metadata": {},
   "source": [
    "# 2 Lists vs. Arrays"
   ]
  },
  {
   "cell_type": "markdown",
   "id": "840248d9",
   "metadata": {},
   "source": [
    "## 2.1 Size"
   ]
  },
  {
   "cell_type": "code",
   "execution_count": 15,
   "id": "5b199dc8",
   "metadata": {},
   "outputs": [],
   "source": [
    "py_list_2d = [[1, \"A\"], [2, \"B\"], [3, \"C\"], [4, \"D\"],\n",
    "              [5, \"E\"], [6, \"F\"], [7, \"G\"], [8, \"H\"],\n",
    "              [9, \"I\"], [10, \"J\"]]\n",
    "\n",
    "np_array_2d = np.array(py_list_2d)      "
   ]
  },
  {
   "cell_type": "code",
   "execution_count": 17,
   "id": "7fcea631",
   "metadata": {},
   "outputs": [
    {
     "data": {
      "text/plain": [
       "10"
      ]
     },
     "execution_count": 17,
     "metadata": {},
     "output_type": "execute_result"
    }
   ],
   "source": [
    "len(py_list_2d)"
   ]
  },
  {
   "cell_type": "code",
   "execution_count": 18,
   "id": "bd34eefa",
   "metadata": {},
   "outputs": [
    {
     "data": {
      "text/plain": [
       "10"
      ]
     },
     "execution_count": 18,
     "metadata": {},
     "output_type": "execute_result"
    }
   ],
   "source": [
    "len(np_array_2d)"
   ]
  },
  {
   "cell_type": "code",
   "execution_count": 21,
   "id": "1a844f4a",
   "metadata": {},
   "outputs": [
    {
     "data": {
      "text/plain": [
       "(10, 2)"
      ]
     },
     "execution_count": 21,
     "metadata": {},
     "output_type": "execute_result"
    }
   ],
   "source": [
    "np_array_2d.shape"
   ]
  },
  {
   "cell_type": "markdown",
   "id": "498fafb5",
   "metadata": {},
   "source": [
    "## 2.2 Arrays are fussy about type"
   ]
  },
  {
   "cell_type": "code",
   "execution_count": 19,
   "id": "33c83d5d",
   "metadata": {},
   "outputs": [],
   "source": [
    "py_list = [1, 1.5, 'A']\n",
    "np_array = np.array(py_list)"
   ]
  },
  {
   "cell_type": "code",
   "execution_count": 22,
   "id": "bb4766e0",
   "metadata": {},
   "outputs": [
    {
     "data": {
      "text/plain": [
       "[1, 1.5, 'A']"
      ]
     },
     "execution_count": 22,
     "metadata": {},
     "output_type": "execute_result"
    }
   ],
   "source": [
    "py_list"
   ]
  },
  {
   "cell_type": "code",
   "execution_count": 23,
   "id": "1c59e15c",
   "metadata": {},
   "outputs": [
    {
     "data": {
      "text/plain": [
       "array(['1', '1.5', 'A'], dtype='<U32')"
      ]
     },
     "execution_count": 23,
     "metadata": {},
     "output_type": "execute_result"
    }
   ],
   "source": [
    "np_array   #NumPy arrays tolerate only a single type of data"
   ]
  },
  {
   "cell_type": "markdown",
   "id": "412297e1",
   "metadata": {},
   "source": [
    "## 2.3 Adding a number"
   ]
  },
  {
   "cell_type": "code",
   "execution_count": 24,
   "id": "1da7afcd",
   "metadata": {},
   "outputs": [],
   "source": [
    "py_list = [1, 2, 3, 4, 5]\n",
    "np_array = np.array(py_list)         "
   ]
  },
  {
   "cell_type": "code",
   "execution_count": 25,
   "id": "c6b9fff6",
   "metadata": {},
   "outputs": [
    {
     "data": {
      "text/plain": [
       "array([11, 12, 13, 14, 15])"
      ]
     },
     "execution_count": 25,
     "metadata": {},
     "output_type": "execute_result"
    }
   ],
   "source": [
    "np_array + 10"
   ]
  },
  {
   "cell_type": "code",
   "execution_count": 26,
   "id": "2f0a2d4c",
   "metadata": {
    "scrolled": false
   },
   "outputs": [
    {
     "ename": "TypeError",
     "evalue": "can only concatenate list (not \"int\") to list",
     "output_type": "error",
     "traceback": [
      "\u001b[1;31m---------------------------------------------------------------------------\u001b[0m",
      "\u001b[1;31mTypeError\u001b[0m                                 Traceback (most recent call last)",
      "\u001b[1;32m~\\AppData\\Local\\Temp\\ipykernel_13876\\2906505170.py\u001b[0m in \u001b[0;36m<module>\u001b[1;34m\u001b[0m\n\u001b[1;32m----> 1\u001b[1;33m \u001b[0mpy_list\u001b[0m \u001b[1;33m+\u001b[0m \u001b[1;36m10\u001b[0m\u001b[1;33m\u001b[0m\u001b[1;33m\u001b[0m\u001b[0m\n\u001b[0m",
      "\u001b[1;31mTypeError\u001b[0m: can only concatenate list (not \"int\") to list"
     ]
    }
   ],
   "source": [
    "py_list + 10"
   ]
  },
  {
   "cell_type": "markdown",
   "id": "100aeec1",
   "metadata": {},
   "source": [
    "## 2.4 Adding another list"
   ]
  },
  {
   "cell_type": "code",
   "execution_count": 27,
   "id": "bbb98276",
   "metadata": {},
   "outputs": [],
   "source": [
    "py_list_1 = [1, 2, 3, 4, 5]\n",
    "py_list_2 = [6, 7, 8, 9, 10]\n",
    "np_array1 = np.array(py_list_1)\n",
    "np_array2 = np.array(py_list_2)"
   ]
  },
  {
   "cell_type": "code",
   "execution_count": 28,
   "id": "21bbd8ec",
   "metadata": {
    "scrolled": true
   },
   "outputs": [
    {
     "data": {
      "text/plain": [
       "[1, 2, 3, 4, 5, 6, 7, 8, 9, 10]"
      ]
     },
     "execution_count": 28,
     "metadata": {},
     "output_type": "execute_result"
    }
   ],
   "source": [
    "py_list_1 + py_list_2   #Joins two lists together"
   ]
  },
  {
   "cell_type": "code",
   "execution_count": 29,
   "id": "efe02e16",
   "metadata": {
    "scrolled": true
   },
   "outputs": [
    {
     "data": {
      "text/plain": [
       "array([ 7,  9, 11, 13, 15])"
      ]
     },
     "execution_count": 29,
     "metadata": {},
     "output_type": "execute_result"
    }
   ],
   "source": [
    "np_array1 + np_array2   #Sums the values of the two lists"
   ]
  },
  {
   "cell_type": "markdown",
   "id": "82e46bd9",
   "metadata": {},
   "source": [
    "## 2.5 Multiplying by a Number"
   ]
  },
  {
   "cell_type": "code",
   "execution_count": 30,
   "id": "556074ed",
   "metadata": {},
   "outputs": [],
   "source": [
    "py_list_1 = [1, 2, 3, 4, 5]\n",
    "np_array1 = np.array(py_list_1)"
   ]
  },
  {
   "cell_type": "code",
   "execution_count": 31,
   "id": "e94d6c99",
   "metadata": {
    "scrolled": true
   },
   "outputs": [
    {
     "data": {
      "text/plain": [
       "[1, 2, 3, 4, 5, 1, 2, 3, 4, 5]"
      ]
     },
     "execution_count": 31,
     "metadata": {},
     "output_type": "execute_result"
    }
   ],
   "source": [
    "py_list_1*2   #Causes list to repeat x number of times"
   ]
  },
  {
   "cell_type": "code",
   "execution_count": 32,
   "id": "c1eb0b6f",
   "metadata": {},
   "outputs": [
    {
     "data": {
      "text/plain": [
       "array([ 3,  6,  9, 12, 15])"
      ]
     },
     "execution_count": 32,
     "metadata": {},
     "output_type": "execute_result"
    }
   ],
   "source": [
    "np_array1*3   #Applies multiplication function to all values in the list"
   ]
  },
  {
   "cell_type": "code",
   "execution_count": 33,
   "id": "8d2010d7",
   "metadata": {},
   "outputs": [
    {
     "data": {
      "text/plain": [
       "array([0.33333333, 0.66666667, 1.        , 1.33333333, 1.66666667])"
      ]
     },
     "execution_count": 33,
     "metadata": {},
     "output_type": "execute_result"
    }
   ],
   "source": [
    "np_array1/3"
   ]
  },
  {
   "cell_type": "markdown",
   "id": "177962f3",
   "metadata": {},
   "source": [
    "## 2.6 Squaring"
   ]
  },
  {
   "cell_type": "code",
   "execution_count": 37,
   "id": "e07a816b",
   "metadata": {},
   "outputs": [],
   "source": [
    "py_list_1 = [1, 2, 3, 4, 5]\n",
    "np_array = np.array(py_list_1)"
   ]
  },
  {
   "cell_type": "code",
   "execution_count": 35,
   "id": "a7501626",
   "metadata": {},
   "outputs": [
    {
     "ename": "TypeError",
     "evalue": "unsupported operand type(s) for ** or pow(): 'list' and 'int'",
     "output_type": "error",
     "traceback": [
      "\u001b[1;31m---------------------------------------------------------------------------\u001b[0m",
      "\u001b[1;31mTypeError\u001b[0m                                 Traceback (most recent call last)",
      "\u001b[1;32m~\\AppData\\Local\\Temp\\ipykernel_13876\\1625232229.py\u001b[0m in \u001b[0;36m<module>\u001b[1;34m\u001b[0m\n\u001b[1;32m----> 1\u001b[1;33m \u001b[0mpy_list_1\u001b[0m\u001b[1;33m**\u001b[0m\u001b[1;36m2\u001b[0m\u001b[1;33m\u001b[0m\u001b[1;33m\u001b[0m\u001b[0m\n\u001b[0m",
      "\u001b[1;31mTypeError\u001b[0m: unsupported operand type(s) for ** or pow(): 'list' and 'int'"
     ]
    }
   ],
   "source": [
    "py_list_1**2  #Does not work"
   ]
  },
  {
   "cell_type": "code",
   "execution_count": 39,
   "id": "7f0e8e28",
   "metadata": {},
   "outputs": [
    {
     "data": {
      "text/plain": [
       "array([ 1,  4,  9, 16, 25], dtype=int32)"
      ]
     },
     "execution_count": 39,
     "metadata": {},
     "output_type": "execute_result"
    }
   ],
   "source": [
    "np_array**2    #Squares each value in the list"
   ]
  },
  {
   "cell_type": "markdown",
   "id": "47915ae4",
   "metadata": {},
   "source": [
    "## 2.7 Asking questions"
   ]
  },
  {
   "cell_type": "code",
   "execution_count": 40,
   "id": "34e33e58",
   "metadata": {},
   "outputs": [],
   "source": [
    "py_list_1 = [1, 2, 3, 4, 5]\n",
    "np_array = np.array(py_list_1)"
   ]
  },
  {
   "cell_type": "code",
   "execution_count": 41,
   "id": "d95e7976",
   "metadata": {},
   "outputs": [
    {
     "data": {
      "text/plain": [
       "False"
      ]
     },
     "execution_count": 41,
     "metadata": {},
     "output_type": "execute_result"
    }
   ],
   "source": [
    "py_list == 3"
   ]
  },
  {
   "cell_type": "code",
   "execution_count": 42,
   "id": "6a8ab3ca",
   "metadata": {
    "scrolled": true
   },
   "outputs": [
    {
     "ename": "TypeError",
     "evalue": "'>' not supported between instances of 'list' and 'int'",
     "output_type": "error",
     "traceback": [
      "\u001b[1;31m---------------------------------------------------------------------------\u001b[0m",
      "\u001b[1;31mTypeError\u001b[0m                                 Traceback (most recent call last)",
      "\u001b[1;32m~\\AppData\\Local\\Temp\\ipykernel_13876\\3121617539.py\u001b[0m in \u001b[0;36m<module>\u001b[1;34m\u001b[0m\n\u001b[1;32m----> 1\u001b[1;33m \u001b[0mpy_list\u001b[0m \u001b[1;33m>\u001b[0m \u001b[1;36m3\u001b[0m\u001b[1;33m\u001b[0m\u001b[1;33m\u001b[0m\u001b[0m\n\u001b[0m",
      "\u001b[1;31mTypeError\u001b[0m: '>' not supported between instances of 'list' and 'int'"
     ]
    }
   ],
   "source": [
    "py_list > 3"
   ]
  },
  {
   "cell_type": "code",
   "execution_count": 43,
   "id": "04c90ae3",
   "metadata": {},
   "outputs": [
    {
     "data": {
      "text/plain": [
       "array([False, False,  True, False, False])"
      ]
     },
     "execution_count": 43,
     "metadata": {},
     "output_type": "execute_result"
    }
   ],
   "source": [
    "np_array == 3"
   ]
  },
  {
   "cell_type": "code",
   "execution_count": 44,
   "id": "2e9d4da0",
   "metadata": {},
   "outputs": [
    {
     "data": {
      "text/plain": [
       "array([False, False, False,  True,  True])"
      ]
     },
     "execution_count": 44,
     "metadata": {},
     "output_type": "execute_result"
    }
   ],
   "source": [
    "np_array > 3"
   ]
  },
  {
   "cell_type": "markdown",
   "id": "dc9f1608",
   "metadata": {},
   "source": [
    "## 2.8 Mathematics"
   ]
  },
  {
   "cell_type": "code",
   "execution_count": 45,
   "id": "c2222cec",
   "metadata": {},
   "outputs": [],
   "source": [
    "py_list = [1, 2, 3, 4, 5]\n",
    "np_array = np.array(py_list)  "
   ]
  },
  {
   "cell_type": "code",
   "execution_count": 46,
   "id": "844b9ff0",
   "metadata": {},
   "outputs": [
    {
     "data": {
      "text/plain": [
       "15"
      ]
     },
     "execution_count": 46,
     "metadata": {},
     "output_type": "execute_result"
    }
   ],
   "source": [
    "sum(py_list) "
   ]
  },
  {
   "cell_type": "code",
   "execution_count": 47,
   "id": "ea4253eb",
   "metadata": {},
   "outputs": [
    {
     "data": {
      "text/plain": [
       "5"
      ]
     },
     "execution_count": 47,
     "metadata": {},
     "output_type": "execute_result"
    }
   ],
   "source": [
    "max(py_list)"
   ]
  },
  {
   "cell_type": "code",
   "execution_count": 48,
   "id": "57534841",
   "metadata": {
    "scrolled": true
   },
   "outputs": [
    {
     "data": {
      "text/plain": [
       "1"
      ]
     },
     "execution_count": 48,
     "metadata": {},
     "output_type": "execute_result"
    }
   ],
   "source": [
    "min(py_list)"
   ]
  },
  {
   "cell_type": "code",
   "execution_count": 49,
   "id": "0abff671",
   "metadata": {},
   "outputs": [
    {
     "data": {
      "text/plain": [
       "15"
      ]
     },
     "execution_count": 49,
     "metadata": {},
     "output_type": "execute_result"
    }
   ],
   "source": [
    "np_array.sum()"
   ]
  },
  {
   "cell_type": "code",
   "execution_count": 50,
   "id": "a1971486",
   "metadata": {},
   "outputs": [
    {
     "data": {
      "text/plain": [
       "5"
      ]
     },
     "execution_count": 50,
     "metadata": {},
     "output_type": "execute_result"
    }
   ],
   "source": [
    "np_array.max()"
   ]
  },
  {
   "cell_type": "code",
   "execution_count": 51,
   "id": "d945b95d",
   "metadata": {},
   "outputs": [
    {
     "data": {
      "text/plain": [
       "1"
      ]
     },
     "execution_count": 51,
     "metadata": {},
     "output_type": "execute_result"
    }
   ],
   "source": [
    "np_array.min()"
   ]
  },
  {
   "cell_type": "code",
   "execution_count": 52,
   "id": "141c4c32",
   "metadata": {},
   "outputs": [
    {
     "data": {
      "text/plain": [
       "3.0"
      ]
     },
     "execution_count": 52,
     "metadata": {},
     "output_type": "execute_result"
    }
   ],
   "source": [
    "np_array.mean()"
   ]
  },
  {
   "cell_type": "code",
   "execution_count": 53,
   "id": "638ef3f9",
   "metadata": {},
   "outputs": [
    {
     "data": {
      "text/plain": [
       "1.4142135623730951"
      ]
     },
     "execution_count": 53,
     "metadata": {},
     "output_type": "execute_result"
    }
   ],
   "source": [
    "np_array.std()"
   ]
  },
  {
   "cell_type": "code",
   "execution_count": 57,
   "id": "82dde080",
   "metadata": {},
   "outputs": [],
   "source": [
    "py_list = [1, 2, 3, 3, 3, 4, 5]\n",
    "np_array = np.array(py_list) "
   ]
  },
  {
   "cell_type": "code",
   "execution_count": 59,
   "id": "27a5a8fa",
   "metadata": {},
   "outputs": [
    {
     "data": {
      "text/plain": [
       "3.0"
      ]
     },
     "execution_count": 59,
     "metadata": {},
     "output_type": "execute_result"
    }
   ],
   "source": [
    "np_array.mean()"
   ]
  },
  {
   "cell_type": "code",
   "execution_count": 60,
   "id": "7d00d36d",
   "metadata": {},
   "outputs": [
    {
     "data": {
      "text/plain": [
       "3.0"
      ]
     },
     "execution_count": 60,
     "metadata": {},
     "output_type": "execute_result"
    }
   ],
   "source": [
    "np.median(np_array)"
   ]
  },
  {
   "cell_type": "markdown",
   "id": "e044edda",
   "metadata": {},
   "source": [
    "## Footnotes"
   ]
  }
 ],
 "metadata": {
  "kernelspec": {
   "display_name": "Python 3 (ipykernel)",
   "language": "python",
   "name": "python3"
  },
  "language_info": {
   "codemirror_mode": {
    "name": "ipython",
    "version": 3
   },
   "file_extension": ".py",
   "mimetype": "text/x-python",
   "name": "python",
   "nbconvert_exporter": "python",
   "pygments_lexer": "ipython3",
   "version": "3.9.13"
  },
  "toc": {
   "base_numbering": 1,
   "nav_menu": {},
   "number_sections": true,
   "sideBar": true,
   "skip_h1_title": false,
   "title_cell": "Table of Contents",
   "title_sidebar": "Contents",
   "toc_cell": false,
   "toc_position": {},
   "toc_section_display": true,
   "toc_window_display": false
  },
  "vscode": {
   "interpreter": {
    "hash": "31f2aee4e71d21fbe5cf8b01ff0e069b9275f58929596ceb00d14d90e3e16cd6"
   }
  }
 },
 "nbformat": 4,
 "nbformat_minor": 5
}
