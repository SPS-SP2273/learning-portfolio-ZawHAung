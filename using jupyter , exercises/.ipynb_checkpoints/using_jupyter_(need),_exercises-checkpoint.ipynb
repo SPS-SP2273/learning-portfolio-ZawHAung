{
 "cells": [
  {
   "cell_type": "markdown",
   "id": "123456",
   "metadata": {},
   "source": [
    "<div style=\"text-align:left;font-size:2em\"><span style=\"font-weight:bolder;font-size:1.25em\">SP2273 | Learning Portfolio</span><br><br><span style=\"font-weight:bold;color:darkred\">Using Jupyter (Need), Exercises</span></div>"
   ]
  },
  {
   "cell_type": "markdown",
   "id": "66003142",
   "metadata": {},
   "source": [
    "## Quadratic Equations"
   ]
  },
  {
   "cell_type": "markdown",
   "id": "9ea650d3",
   "metadata": {},
   "source": [
    "### Introduction"
   ]
  },
  {
   "cell_type": "markdown",
   "id": "940db44c",
   "metadata": {},
   "source": [
    "![](https://upload.wikimedia.org/wikipedia/commons/thumb/f/f8/Polynomialdeg2.svg/300px-Polynomialdeg2.svg.png)\n",
    "\n",
    "_(Image from the [Wikipedia page on Quadratic equations](https://en.wikipedia.org/wiki/Quadratic_equation))_\n",
    "\n",
    "The general form of a quadratic equation is:\n",
    "\n",
    "$$ax^2+bx+c=0$$"
   ]
  },
  {
   "cell_type": "markdown",
   "id": "0532991e",
   "metadata": {},
   "source": [
    "### Solutions"
   ]
  },
  {
   "cell_type": "markdown",
   "id": "ea28d031",
   "metadata": {},
   "source": [
    "Provided $a\\ne0$, we can use an elementary algebraic method called [completeing the square](https://en.wikipedia.org/wiki/Completing_the_square) to show that a quadratic equation has the following solution:\n",
    "\n",
    "$$x = \\dfrac{-b \\pm \\sqrt{b^2-4ac}}{2a}$$"
   ]
  },
  {
   "cell_type": "markdown",
   "id": "a56feb34",
   "metadata": {},
   "source": [
    "### Discriminant"
   ]
  },
  {
   "cell_type": "markdown",
   "id": "3ca45c1d",
   "metadata": {},
   "source": [
    "The quantity $\\Delta = b^2-4ac$ is called the discriminant of the equation and decides the nature of its solutions. The table below shows the various possibilities.\n",
    "\n",
    "| Discriminant    |  Roots   | \n",
    "| :--- | :--: | \n",
    "| $\\Delta=b^2-4ac=0$   |  A single solution of $-b/(2a)$  |   \n",
    "| $\\Delta=b^2-4ac\\gt0$   |  Two distinct solutions  |  \n",
    "| $\\Delta=b^2-4ac\\lt0$   |  No real solutions; both are complex.  |   "
   ]
  },
  {
   "cell_type": "markdown",
   "id": "46cffe5c",
   "metadata": {},
   "source": [
    "## Exercise 2"
   ]
  },
  {
   "cell_type": "markdown",
   "id": "14a25555",
   "metadata": {},
   "source": [
    "1. What is a Git **repository**?\n",
    "\n",
    "A repository is a place to store one's work, where Git repository is a folder that can be found on GitHub containing one's work."
   ]
  },
  {
   "cell_type": "markdown",
   "id": "1500b231",
   "metadata": {},
   "source": [
    "2. Git keeps tracks of ____BLANK____ in the files in our repository.\n",
    "\n",
    "Git keeps track of **changes made** in the files in our repository."
   ]
  },
  {
   "cell_type": "markdown",
   "id": "ee12e2d5",
   "metadata": {},
   "source": [
    "3. What is a **commit**?\n",
    "\n",
    "A commit is a capture of the changes made to the files in our repository at any point in time where one chooses, and one can attach a description to provide elaboration to the changes made.\n"
   ]
  },
  {
   "cell_type": "markdown",
   "id": "d70cd094",
   "metadata": {},
   "source": [
    "4. What is a **push**?\n",
    "\n",
    "A push is the uploading and synchronization of changes made in the local repository on one's personal device into the remote Git server over the Internet."
   ]
  },
  {
   "cell_type": "markdown",
   "id": "c48f1548",
   "metadata": {},
   "source": [
    "5. What is a **pull**?\n",
    "\n",
    "A pull is the retrieval and synchronization of changes made in the remote repository to one's own local repository."
   ]
  },
  {
   "cell_type": "markdown",
   "id": "9f0dd86a",
   "metadata": {},
   "source": [
    "6. What is the difference between **GitHub** and **GitHub Desktop**?\n",
    "\n",
    "GitHub is the remote server while GitHub Desktop is a local repository."
   ]
  }
 ],
 "metadata": {
  "kernelspec": {
   "display_name": "Python 3 (ipykernel)",
   "language": "python",
   "name": "python3"
  },
  "language_info": {
   "codemirror_mode": {
    "name": "ipython",
    "version": 3
   },
   "file_extension": ".py",
   "mimetype": "text/x-python",
   "name": "python",
   "nbconvert_exporter": "python",
   "pygments_lexer": "ipython3",
   "version": "3.9.13"
  },
  "toc": {
   "base_numbering": 1,
   "nav_menu": {},
   "number_sections": true,
   "sideBar": true,
   "skip_h1_title": false,
   "title_cell": "Table of Contents",
   "title_sidebar": "Contents",
   "toc_cell": false,
   "toc_position": {},
   "toc_section_display": true,
   "toc_window_display": false
  },
  "vscode": {
   "interpreter": {
    "hash": "31f2aee4e71d21fbe5cf8b01ff0e069b9275f58929596ceb00d14d90e3e16cd6"
   }
  }
 },
 "nbformat": 4,
 "nbformat_minor": 5
}
